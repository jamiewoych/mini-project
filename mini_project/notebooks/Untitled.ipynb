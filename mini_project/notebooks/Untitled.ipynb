{
 "cells": [
  {
   "cell_type": "code",
   "execution_count": 1,
   "id": "547ad53f-c7dc-48e4-abac-e3cc52ddfffc",
   "metadata": {},
   "outputs": [],
   "source": [
    "import sys\n",
    "sys.path.append('..')\n",
    "import module"
   ]
  },
  {
   "cell_type": "code",
   "execution_count": 3,
   "id": "1f0e2686-3129-4ebd-ab2d-96b92bcda9a9",
   "metadata": {},
   "outputs": [],
   "source": [
    "R = module.Rack(6) "
   ]
  },
  {
   "cell_type": "code",
   "execution_count": 4,
   "id": "7c26f3e9-31ca-4759-b99c-f054bd52b479",
   "metadata": {},
   "outputs": [
    {
     "data": {
      "text/html": [
       "<div>\n",
       "<style scoped>\n",
       "    .dataframe tbody tr th:only-of-type {\n",
       "        vertical-align: middle;\n",
       "    }\n",
       "\n",
       "    .dataframe tbody tr th {\n",
       "        vertical-align: top;\n",
       "    }\n",
       "\n",
       "    .dataframe thead th {\n",
       "        text-align: right;\n",
       "    }\n",
       "</style>\n",
       "<table border=\"1\" class=\"dataframe\">\n",
       "  <thead>\n",
       "    <tr style=\"text-align: right;\">\n",
       "      <th></th>\n",
       "      <th>Animal ID</th>\n",
       "      <th>Tank</th>\n",
       "      <th>Rack</th>\n",
       "      <th>DOB</th>\n",
       "      <th>Environmental Condition</th>\n",
       "      <th>Sex</th>\n",
       "      <th>Lineage</th>\n",
       "      <th>Transgenic Status</th>\n",
       "      <th>Experimental Holds</th>\n",
       "      <th>Species</th>\n",
       "      <th>Protocol Number</th>\n",
       "      <th>Experimental History</th>\n",
       "    </tr>\n",
       "  </thead>\n",
       "  <tbody>\n",
       "    <tr>\n",
       "      <th>0</th>\n",
       "      <td>SAL_001</td>\n",
       "      <td>7</td>\n",
       "      <td>Rack 2</td>\n",
       "      <td>2022-09-28</td>\n",
       "      <td>Terrestrial</td>\n",
       "      <td>None</td>\n",
       "      <td>PxW</td>\n",
       "      <td>Wildtype</td>\n",
       "      <td>True</td>\n",
       "      <td>Polypterus senegalus</td>\n",
       "      <td>AABF</td>\n",
       "      <td>EdU</td>\n",
       "    </tr>\n",
       "    <tr>\n",
       "      <th>1</th>\n",
       "      <td>SAL_002</td>\n",
       "      <td>1</td>\n",
       "      <td>Rack 3</td>\n",
       "      <td>2022-12-24</td>\n",
       "      <td>Reaqua</td>\n",
       "      <td>None</td>\n",
       "      <td>Jungle Bobs</td>\n",
       "      <td>hsyn-GFP</td>\n",
       "      <td>True</td>\n",
       "      <td>Ambystoma mexicanum</td>\n",
       "      <td>AABY</td>\n",
       "      <td>Regeneration</td>\n",
       "    </tr>\n",
       "    <tr>\n",
       "      <th>2</th>\n",
       "      <td>SAL_003</td>\n",
       "      <td>9</td>\n",
       "      <td>Rack 1</td>\n",
       "      <td>2023-12-13</td>\n",
       "      <td>Aquatic</td>\n",
       "      <td>None</td>\n",
       "      <td>PxW</td>\n",
       "      <td>Wildtype</td>\n",
       "      <td>False</td>\n",
       "      <td>Pleurodeles waltl</td>\n",
       "      <td>AABL</td>\n",
       "      <td>Behavior Conditioning</td>\n",
       "    </tr>\n",
       "    <tr>\n",
       "      <th>3</th>\n",
       "      <td>SAL_004</td>\n",
       "      <td>1</td>\n",
       "      <td>Rack 2</td>\n",
       "      <td>2023-01-10</td>\n",
       "      <td>Aquatic</td>\n",
       "      <td>None</td>\n",
       "      <td>Sweden</td>\n",
       "      <td>hsyn-GFP</td>\n",
       "      <td>False</td>\n",
       "      <td>Ambystoma mexicanum</td>\n",
       "      <td>AABI</td>\n",
       "      <td>Viral injection</td>\n",
       "    </tr>\n",
       "    <tr>\n",
       "      <th>4</th>\n",
       "      <td>SAL_005</td>\n",
       "      <td>1</td>\n",
       "      <td>Rack 2</td>\n",
       "      <td>2021-08-22</td>\n",
       "      <td>Terrestrial</td>\n",
       "      <td>None</td>\n",
       "      <td>Jungle Bobs</td>\n",
       "      <td>Wildtype</td>\n",
       "      <td>True</td>\n",
       "      <td>Polypterus senegalus</td>\n",
       "      <td>AABI</td>\n",
       "      <td>Behavior Conditioning</td>\n",
       "    </tr>\n",
       "    <tr>\n",
       "      <th>5</th>\n",
       "      <td>SAL_006</td>\n",
       "      <td>6</td>\n",
       "      <td>Rack 1</td>\n",
       "      <td>2020-09-22</td>\n",
       "      <td>Reaqua</td>\n",
       "      <td>None</td>\n",
       "      <td>YxO</td>\n",
       "      <td>Wildtype</td>\n",
       "      <td>False</td>\n",
       "      <td>Pleurodeles waltl</td>\n",
       "      <td>AABI</td>\n",
       "      <td>Regeneration</td>\n",
       "    </tr>\n",
       "  </tbody>\n",
       "</table>\n",
       "</div>"
      ],
      "text/plain": [
       "  Animal ID  Tank    Rack        DOB Environmental Condition   Sex  \\\n",
       "0   SAL_001     7  Rack 2 2022-09-28             Terrestrial  None   \n",
       "1   SAL_002     1  Rack 3 2022-12-24                  Reaqua  None   \n",
       "2   SAL_003     9  Rack 1 2023-12-13                 Aquatic  None   \n",
       "3   SAL_004     1  Rack 2 2023-01-10                 Aquatic  None   \n",
       "4   SAL_005     1  Rack 2 2021-08-22             Terrestrial  None   \n",
       "5   SAL_006     6  Rack 1 2020-09-22                  Reaqua  None   \n",
       "\n",
       "       Lineage Transgenic Status  Experimental Holds               Species  \\\n",
       "0          PxW          Wildtype                True  Polypterus senegalus   \n",
       "1  Jungle Bobs          hsyn-GFP                True   Ambystoma mexicanum   \n",
       "2          PxW          Wildtype               False     Pleurodeles waltl   \n",
       "3       Sweden          hsyn-GFP               False   Ambystoma mexicanum   \n",
       "4  Jungle Bobs          Wildtype                True  Polypterus senegalus   \n",
       "5          YxO          Wildtype               False     Pleurodeles waltl   \n",
       "\n",
       "  Protocol Number   Experimental History  \n",
       "0            AABF                    EdU  \n",
       "1            AABY           Regeneration  \n",
       "2            AABL  Behavior Conditioning  \n",
       "3            AABI        Viral injection  \n",
       "4            AABI  Behavior Conditioning  \n",
       "5            AABI           Regeneration  "
      ]
     },
     "execution_count": 4,
     "metadata": {},
     "output_type": "execute_result"
    }
   ],
   "source": [
    "R.inventory"
   ]
  },
  {
   "cell_type": "code",
   "execution_count": 16,
   "id": "4371e85d-289b-47c5-a6ef-fef7159ad1c0",
   "metadata": {},
   "outputs": [
    {
     "name": "stdout",
     "output_type": "stream",
     "text": [
      "Animal SAL_003 euthanized and removed from inventory.\n"
     ]
    }
   ],
   "source": [
    "R.euthanize_animal('SAL_003','2025-3-6', 9, \"Female\", \"Perfusion\", \"AOG\", complications=\"None\")"
   ]
  },
  {
   "cell_type": "code",
   "execution_count": 17,
   "id": "0c724163-407a-4bc6-9d18-d9441b08719d",
   "metadata": {},
   "outputs": [
    {
     "data": {
      "text/html": [
       "<div>\n",
       "<style scoped>\n",
       "    .dataframe tbody tr th:only-of-type {\n",
       "        vertical-align: middle;\n",
       "    }\n",
       "\n",
       "    .dataframe tbody tr th {\n",
       "        vertical-align: top;\n",
       "    }\n",
       "\n",
       "    .dataframe thead th {\n",
       "        text-align: right;\n",
       "    }\n",
       "</style>\n",
       "<table border=\"1\" class=\"dataframe\">\n",
       "  <thead>\n",
       "    <tr style=\"text-align: right;\">\n",
       "      <th></th>\n",
       "      <th>Animal ID</th>\n",
       "      <th>Tank</th>\n",
       "      <th>Rack</th>\n",
       "      <th>DOB</th>\n",
       "      <th>Environmental Condition</th>\n",
       "      <th>Sex</th>\n",
       "      <th>Lineage</th>\n",
       "      <th>Transgenic Status</th>\n",
       "      <th>Experimental Holds</th>\n",
       "      <th>Species</th>\n",
       "      <th>Protocol Number</th>\n",
       "      <th>Experimental History</th>\n",
       "    </tr>\n",
       "  </thead>\n",
       "  <tbody>\n",
       "    <tr>\n",
       "      <th>0</th>\n",
       "      <td>SAL_001</td>\n",
       "      <td>10</td>\n",
       "      <td>Rack 3</td>\n",
       "      <td>2020-10-07</td>\n",
       "      <td>Aquatic</td>\n",
       "      <td>None</td>\n",
       "      <td>YxO</td>\n",
       "      <td>GCamP6s</td>\n",
       "      <td>False</td>\n",
       "      <td>Ambystoma mexicanum</td>\n",
       "      <td>AABL</td>\n",
       "      <td>Behavior Conditioning</td>\n",
       "    </tr>\n",
       "    <tr>\n",
       "      <th>1</th>\n",
       "      <td>SAL_002</td>\n",
       "      <td>1</td>\n",
       "      <td>Rack 1</td>\n",
       "      <td>2023-12-30</td>\n",
       "      <td>Aquatic</td>\n",
       "      <td>None</td>\n",
       "      <td>Jungle Bobs</td>\n",
       "      <td>GCamP6s</td>\n",
       "      <td>False</td>\n",
       "      <td>Pleurodeles waltl</td>\n",
       "      <td>AABL</td>\n",
       "      <td>Regeneration</td>\n",
       "    </tr>\n",
       "    <tr>\n",
       "      <th>3</th>\n",
       "      <td>SAL_004</td>\n",
       "      <td>5</td>\n",
       "      <td>Rack 3</td>\n",
       "      <td>2023-11-27</td>\n",
       "      <td>Reaqua</td>\n",
       "      <td>None</td>\n",
       "      <td>YxO</td>\n",
       "      <td>GCamP6s</td>\n",
       "      <td>False</td>\n",
       "      <td>Ambystoma mexicanum</td>\n",
       "      <td>AABY</td>\n",
       "      <td>Regeneration</td>\n",
       "    </tr>\n",
       "    <tr>\n",
       "      <th>4</th>\n",
       "      <td>SAL_005</td>\n",
       "      <td>6</td>\n",
       "      <td>Rack 1</td>\n",
       "      <td>2021-02-11</td>\n",
       "      <td>Reaqua</td>\n",
       "      <td>None</td>\n",
       "      <td>YxO</td>\n",
       "      <td>Wildtype</td>\n",
       "      <td>True</td>\n",
       "      <td>Pleurodeles waltl</td>\n",
       "      <td>AABF</td>\n",
       "      <td>Regeneration</td>\n",
       "    </tr>\n",
       "  </tbody>\n",
       "</table>\n",
       "</div>"
      ],
      "text/plain": [
       "  Animal ID  Tank    Rack        DOB Environmental Condition   Sex  \\\n",
       "0   SAL_001    10  Rack 3 2020-10-07                 Aquatic  None   \n",
       "1   SAL_002     1  Rack 1 2023-12-30                 Aquatic  None   \n",
       "3   SAL_004     5  Rack 3 2023-11-27                  Reaqua  None   \n",
       "4   SAL_005     6  Rack 1 2021-02-11                  Reaqua  None   \n",
       "\n",
       "       Lineage Transgenic Status  Experimental Holds              Species  \\\n",
       "0          YxO           GCamP6s               False  Ambystoma mexicanum   \n",
       "1  Jungle Bobs           GCamP6s               False    Pleurodeles waltl   \n",
       "3          YxO           GCamP6s               False  Ambystoma mexicanum   \n",
       "4          YxO          Wildtype                True    Pleurodeles waltl   \n",
       "\n",
       "  Protocol Number   Experimental History  \n",
       "0            AABL  Behavior Conditioning  \n",
       "1            AABL           Regeneration  \n",
       "3            AABY           Regeneration  \n",
       "4            AABF           Regeneration  "
      ]
     },
     "execution_count": 17,
     "metadata": {},
     "output_type": "execute_result"
    }
   ],
   "source": [
    "R.inventory"
   ]
  },
  {
   "cell_type": "code",
   "execution_count": 4,
   "id": "aa0fd5a3-5291-4679-b774-49ae430d6aa4",
   "metadata": {},
   "outputs": [
    {
     "data": {
      "text/plain": [
       "[]"
      ]
     },
     "execution_count": 4,
     "metadata": {},
     "output_type": "execute_result"
    }
   ],
   "source": [
    "R.euthanasia_log"
   ]
  },
  {
   "cell_type": "code",
   "execution_count": 5,
   "id": "ab1a0590-ac01-461b-951d-3480d30529cb",
   "metadata": {},
   "outputs": [
    {
     "data": {
      "text/plain": [
       "50"
      ]
     },
     "execution_count": 5,
     "metadata": {},
     "output_type": "execute_result"
    }
   ],
   "source": [
    "R.num_salamanders"
   ]
  },
  {
   "cell_type": "code",
   "execution_count": 6,
   "id": "0f20ab1d-bfc7-4fad-9ff8-075f89341e00",
   "metadata": {},
   "outputs": [
    {
     "data": {
      "image/png": "[encoded data removed]",
      "text/plain": [
       "<Figure size 800x600 with 2 Axes>"
      ]
     },
     "metadata": {},
     "output_type": "display_data"
    }
   ],
   "source": [
    "R.plot_rack_space()"
   ]
  },
  {
   "cell_type": "code",
   "execution_count": 7,
   "id": "edf7ad64-1b08-48ab-924c-85d9597a5927",
   "metadata": {},
   "outputs": [
    {
     "data": {
      "image/png": "[encoded data removed]",
      "text/plain": [
       "<Figure size 700x500 with 1 Axes>"
      ]
     },
     "metadata": {},
     "output_type": "display_data"
    }
   ],
   "source": [
    "R.plot_species_distribution()"
   ]
  },
  {
   "cell_type": "code",
   "execution_count": 6,
   "id": "46a84ecc-30dc-42b9-8c69-941423572a68",
   "metadata": {},
   "outputs": [
    {
     "name": "stdout",
     "output_type": "stream",
     "text": [
      "Animal SAL_002 moved to Rack 3.\n",
      "Animal SAL_007 not found in inventory.\n",
      "Animal SAL_015 not found in inventory.\n"
     ]
    }
   ],
   "source": [
    "R.move_salamander([\"SAL_002\", \"SAL_007\", \"SAL_015\"], \"Rack 3\")\n"
   ]
  },
  {
   "cell_type": "code",
   "execution_count": 7,
   "id": "23056032-a164-4ad9-9d5b-9de3b679fae4",
   "metadata": {},
   "outputs": [
    {
     "data": {
      "text/html": [
       "<div>\n",
       "<style scoped>\n",
       "    .dataframe tbody tr th:only-of-type {\n",
       "        vertical-align: middle;\n",
       "    }\n",
       "\n",
       "    .dataframe tbody tr th {\n",
       "        vertical-align: top;\n",
       "    }\n",
       "\n",
       "    .dataframe thead th {\n",
       "        text-align: right;\n",
       "    }\n",
       "</style>\n",
       "<table border=\"1\" class=\"dataframe\">\n",
       "  <thead>\n",
       "    <tr style=\"text-align: right;\">\n",
       "      <th></th>\n",
       "      <th>Animal ID</th>\n",
       "      <th>Tank</th>\n",
       "      <th>Rack</th>\n",
       "      <th>DOB</th>\n",
       "      <th>Environmental Condition</th>\n",
       "      <th>Sex</th>\n",
       "      <th>Lineage</th>\n",
       "      <th>Transgenic Status</th>\n",
       "      <th>Experimental Holds</th>\n",
       "      <th>Species</th>\n",
       "      <th>Protocol Number</th>\n",
       "      <th>Experimental History</th>\n",
       "    </tr>\n",
       "  </thead>\n",
       "  <tbody>\n",
       "    <tr>\n",
       "      <th>0</th>\n",
       "      <td>SAL_001</td>\n",
       "      <td>7</td>\n",
       "      <td>Rack 2</td>\n",
       "      <td>2022-09-28</td>\n",
       "      <td>Terrestrial</td>\n",
       "      <td>None</td>\n",
       "      <td>PxW</td>\n",
       "      <td>Wildtype</td>\n",
       "      <td>True</td>\n",
       "      <td>Polypterus senegalus</td>\n",
       "      <td>AABF</td>\n",
       "      <td>EdU</td>\n",
       "    </tr>\n",
       "    <tr>\n",
       "      <th>1</th>\n",
       "      <td>SAL_002</td>\n",
       "      <td>1</td>\n",
       "      <td>Rack 3</td>\n",
       "      <td>2022-12-24</td>\n",
       "      <td>Reaqua</td>\n",
       "      <td>None</td>\n",
       "      <td>Jungle Bobs</td>\n",
       "      <td>hsyn-GFP</td>\n",
       "      <td>True</td>\n",
       "      <td>Ambystoma mexicanum</td>\n",
       "      <td>AABY</td>\n",
       "      <td>Regeneration</td>\n",
       "    </tr>\n",
       "    <tr>\n",
       "      <th>2</th>\n",
       "      <td>SAL_003</td>\n",
       "      <td>9</td>\n",
       "      <td>Rack 1</td>\n",
       "      <td>2023-12-13</td>\n",
       "      <td>Aquatic</td>\n",
       "      <td>None</td>\n",
       "      <td>PxW</td>\n",
       "      <td>Wildtype</td>\n",
       "      <td>False</td>\n",
       "      <td>Pleurodeles waltl</td>\n",
       "      <td>AABL</td>\n",
       "      <td>Behavior Conditioning</td>\n",
       "    </tr>\n",
       "    <tr>\n",
       "      <th>3</th>\n",
       "      <td>SAL_004</td>\n",
       "      <td>1</td>\n",
       "      <td>Rack 2</td>\n",
       "      <td>2023-01-10</td>\n",
       "      <td>Aquatic</td>\n",
       "      <td>None</td>\n",
       "      <td>Sweden</td>\n",
       "      <td>hsyn-GFP</td>\n",
       "      <td>False</td>\n",
       "      <td>Ambystoma mexicanum</td>\n",
       "      <td>AABI</td>\n",
       "      <td>Viral injection</td>\n",
       "    </tr>\n",
       "    <tr>\n",
       "      <th>4</th>\n",
       "      <td>SAL_005</td>\n",
       "      <td>1</td>\n",
       "      <td>Rack 2</td>\n",
       "      <td>2021-08-22</td>\n",
       "      <td>Terrestrial</td>\n",
       "      <td>None</td>\n",
       "      <td>Jungle Bobs</td>\n",
       "      <td>Wildtype</td>\n",
       "      <td>True</td>\n",
       "      <td>Polypterus senegalus</td>\n",
       "      <td>AABI</td>\n",
       "      <td>Behavior Conditioning</td>\n",
       "    </tr>\n",
       "    <tr>\n",
       "      <th>5</th>\n",
       "      <td>SAL_006</td>\n",
       "      <td>6</td>\n",
       "      <td>Rack 1</td>\n",
       "      <td>2020-09-22</td>\n",
       "      <td>Reaqua</td>\n",
       "      <td>None</td>\n",
       "      <td>YxO</td>\n",
       "      <td>Wildtype</td>\n",
       "      <td>False</td>\n",
       "      <td>Pleurodeles waltl</td>\n",
       "      <td>AABI</td>\n",
       "      <td>Regeneration</td>\n",
       "    </tr>\n",
       "  </tbody>\n",
       "</table>\n",
       "</div>"
      ],
      "text/plain": [
       "  Animal ID  Tank    Rack        DOB Environmental Condition   Sex  \\\n",
       "0   SAL_001     7  Rack 2 2022-09-28             Terrestrial  None   \n",
       "1   SAL_002     1  Rack 3 2022-12-24                  Reaqua  None   \n",
       "2   SAL_003     9  Rack 1 2023-12-13                 Aquatic  None   \n",
       "3   SAL_004     1  Rack 2 2023-01-10                 Aquatic  None   \n",
       "4   SAL_005     1  Rack 2 2021-08-22             Terrestrial  None   \n",
       "5   SAL_006     6  Rack 1 2020-09-22                  Reaqua  None   \n",
       "\n",
       "       Lineage Transgenic Status  Experimental Holds               Species  \\\n",
       "0          PxW          Wildtype                True  Polypterus senegalus   \n",
       "1  Jungle Bobs          hsyn-GFP                True   Ambystoma mexicanum   \n",
       "2          PxW          Wildtype               False     Pleurodeles waltl   \n",
       "3       Sweden          hsyn-GFP               False   Ambystoma mexicanum   \n",
       "4  Jungle Bobs          Wildtype                True  Polypterus senegalus   \n",
       "5          YxO          Wildtype               False     Pleurodeles waltl   \n",
       "\n",
       "  Protocol Number   Experimental History  \n",
       "0            AABF                    EdU  \n",
       "1            AABY           Regeneration  \n",
       "2            AABL  Behavior Conditioning  \n",
       "3            AABI        Viral injection  \n",
       "4            AABI  Behavior Conditioning  \n",
       "5            AABI           Regeneration  "
      ]
     },
     "execution_count": 7,
     "metadata": {},
     "output_type": "execute_result"
    }
   ],
   "source": [
    "R.inventory"
   ]
  },
  {
   "cell_type": "code",
   "execution_count": null,
   "id": "c2096ecd-6027-491e-89e0-57d366828212",
   "metadata": {},
   "outputs": [],
   "source": []
  }
 ],
 "metadata": {
  "kernelspec": {
   "display_name": "Python 3 (ipykernel)",
   "language": "python",
   "name": "python3"
  },
  "language_info": {
   "codemirror_mode": {
    "name": "ipython",
    "version": 3
   },
   "file_extension": ".py",
   "mimetype": "text/x-python",
   "name": "python",
   "nbconvert_exporter": "python",
   "pygments_lexer": "ipython3",
   "version": "3.12.9"
  }
 },
 "nbformat": 4,
 "nbformat_minor": 5
}
