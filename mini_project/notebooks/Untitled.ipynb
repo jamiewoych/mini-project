{
 "cells": [
  {
   "cell_type": "code",
   "execution_count": null,
   "id": "f2354537-8763-4bcd-97ba-cc9fb6b7cd67",
   "metadata": {},
   "outputs": [],
   "source": [
    "#show and tell\n",
    "mini_project -n 10 -v\n",
    "mini_project -h\n",
    "mini_project -f \"salamander_inventory.csv\" -m \"SAL_003\" \"Rack 2\"\n",
    "mini_project -f \"salamander_inventory.csv\" -e \"SAL_004\" \"2025-03-12\" \"7\" \"M\" \"histology\" \"JW\" \"None\"\n",
    "cat euthanasia_f"
   ]
  }
 ],
 "metadata": {
  "kernelspec": {
   "display_name": "Python 3 (ipykernel)",
   "language": "python",
   "name": "python3"
  },
  "language_info": {
   "codemirror_mode": {
    "name": "ipython",
    "version": 3
   },
   "file_extension": ".py",
   "mimetype": "text/x-python",
   "name": "python",
   "nbconvert_exporter": "python",
   "pygments_lexer": "ipython3",
   "version": "3.12.9"
  }
 },
 "nbformat": 4,
 "nbformat_minor": 5
}
