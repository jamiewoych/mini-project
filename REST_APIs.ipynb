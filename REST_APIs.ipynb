{
 "cells": [
  {
   "cell_type": "code",
   "execution_count": 1,
   "metadata": {},
   "outputs": [],
   "source": [
    "import toyplot\n",
    "import requests\n",
    "import pandas as pd"
   ]
  },
  {
   "cell_type": "code",
   "execution_count": 2,
   "metadata": {},
   "outputs": [],
   "source": [
    "# store the base url as a string variable\n",
    "baseurl = \"http://api.gbif.org/v1/occurrence/search?\"\n"
   ]
  },
  {
   "cell_type": "code",
   "execution_count": 3,
   "metadata": {},
   "outputs": [],
   "source": [
    "# store a endpoint request as a string variable\n",
    "search_url = \"http://api.gbif.org/v1/occurrence/search?q=Bombus\""
   ]
  },
  {
   "cell_type": "code",
   "execution_count": 4,
   "metadata": {},
   "outputs": [],
   "source": [
    "# create a Response instance from a request\n",
    "response = requests.get(search_url)"
   ]
  },
  {
   "cell_type": "code",
   "execution_count": 5,
   "metadata": {},
   "outputs": [
    {
     "data": {
      "text/plain": [
       "200"
      ]
     },
     "execution_count": 5,
     "metadata": {},
     "output_type": "execute_result"
    }
   ],
   "source": [
    "# check that your request worked (200 = worked; other codes No))\n",
    "response.status_code"
   ]
  },
  {
   "cell_type": "code",
   "execution_count": 6,
   "metadata": {},
   "outputs": [],
   "source": [
    "# or, run this to check if it worked.\n",
    "# This would return an error message if it didn't work (else None)\n",
    "response.raise_for_status()"
   ]
  },
  {
   "cell_type": "code",
   "execution_count": 7,
   "metadata": {},
   "outputs": [
    {
     "data": {
      "text/plain": [
       "'{\"offset\":0,\"limit\":20,\"endOfRecords\":false,\"count\":3924237,\"results\":[{\"key\":1792076088,\"datasetKey\":\"4fa7b334-ce0d-4e88-aaae-2e0c138d049e\",\"publishingOrgKey\":\"e2e717bf-551a-4917-bdc9-4fa0f342c530\",\"installationKey\":\"7182d304-b0a2-404b-baba-2086a325c221\",\"hostingOrganizationKey\":\"e2e717bf-551a-4917-bdc9-4fa0f342c530\",\"publishingCountry\":\"EC\",\"protocol\":\"DWC_ARCHIVE\",\"lastCrawled\":\"2024-09-27T13:35:39.907+00:00\",\"lastParsed\":\"2025-02-05T01:03:29.507+00:00\",\"crawlId\":20,\"extensions\":{},\"basisOfRe'"
      ]
     },
     "execution_count": 7,
     "metadata": {},
     "output_type": "execute_result"
    }
   ],
   "source": [
    "# first 500 characters of the .text string from GBIF API query\n",
    "response.text[:500]"
   ]
  },
  {
   "cell_type": "code",
   "execution_count": 10,
   "metadata": {},
   "outputs": [
    {
     "data": {
      "text/plain": [
       "['offset', 'limit', 'endOfRecords', 'count', 'results', 'facets']"
      ]
     },
     "execution_count": 10,
     "metadata": {},
     "output_type": "execute_result"
    }
   ],
   "source": [
    "# or, get results as a dictionary (JSON converted)\n",
    "rdict = response.json()\n",
    "\n",
    "# get some quick info on the dictionary keys\n",
    "list(rdict.keys())"
   ]
  },
  {
   "cell_type": "code",
   "execution_count": 11,
   "metadata": {},
   "outputs": [
    {
     "data": {
      "text/plain": [
       "3924237"
      ]
     },
     "execution_count": 11,
     "metadata": {},
     "output_type": "execute_result"
    }
   ],
   "source": [
    "## how many records are there for this query\n",
    "rdict[\"count\"]"
   ]
  },
  {
   "cell_type": "code",
   "execution_count": 12,
   "metadata": {},
   "outputs": [
    {
     "data": {
      "text/plain": [
       "20"
      ]
     },
     "execution_count": 12,
     "metadata": {},
     "output_type": "execute_result"
    }
   ],
   "source": [
    "## how many records were returned\n",
    "rdict[\"limit\"]"
   ]
  },
  {
   "cell_type": "code",
   "execution_count": 13,
   "metadata": {},
   "outputs": [
    {
     "data": {
      "text/plain": [
       "0"
      ]
     },
     "execution_count": 13,
     "metadata": {},
     "output_type": "execute_result"
    }
   ],
   "source": [
    "## starting from which record\n",
    "rdict[\"offset\"]"
   ]
  },
  {
   "cell_type": "code",
   "execution_count": 14,
   "metadata": {},
   "outputs": [
    {
     "data": {
      "text/plain": [
       "{'key': 1792076088,\n",
       " 'datasetKey': '4fa7b334-ce0d-4e88-aaae-2e0c138d049e',\n",
       " 'publishingOrgKey': 'e2e717bf-551a-4917-bdc9-4fa0f342c530',\n",
       " 'installationKey': '7182d304-b0a2-404b-baba-2086a325c221',\n",
       " 'hostingOrganizationKey': 'e2e717bf-551a-4917-bdc9-4fa0f342c530',\n",
       " 'publishingCountry': 'EC',\n",
       " 'protocol': 'DWC_ARCHIVE',\n",
       " 'lastCrawled': '2024-09-27T13:35:39.907+00:00',\n",
       " 'lastParsed': '2025-02-05T01:03:29.507+00:00',\n",
       " 'crawlId': 20,\n",
       " 'extensions': {},\n",
       " 'basisOfRecord': 'HUMAN_OBSERVATION',\n",
       " 'individualCount': 1,\n",
       " 'occurrenceStatus': 'PRESENT',\n",
       " 'taxonKey': 5228583,\n",
       " 'kingdomKey': 1,\n",
       " 'phylumKey': 44,\n",
       " 'classKey': 212,\n",
       " 'orderKey': 1448,\n",
       " 'familyKey': 5289,\n",
       " 'genusKey': 2476913,\n",
       " 'speciesKey': 5228583,\n",
       " 'acceptedTaxonKey': 5228583,\n",
       " 'scientificName': 'Chaetocercus bombus Gould, 1871',\n",
       " 'acceptedScientificName': 'Chaetocercus bombus Gould, 1871',\n",
       " 'kingdom': 'Animalia',\n",
       " 'phylum': 'Chordata',\n",
       " 'order': 'Apodiformes',\n",
       " 'family': 'Trochilidae',\n",
       " 'genus': 'Chaetocercus',\n",
       " 'species': 'Chaetocercus bombus',\n",
       " 'genericName': 'Chaetocercus',\n",
       " 'specificEpithet': 'bombus',\n",
       " 'taxonRank': 'SPECIES',\n",
       " 'taxonomicStatus': 'ACCEPTED',\n",
       " 'iucnRedListCategory': 'NT',\n",
       " 'decimalLatitude': -4.090851,\n",
       " 'decimalLongitude': -78.95827,\n",
       " 'continent': 'SOUTH_AMERICA',\n",
       " 'stateProvince': 'Zamora-Chinchipe',\n",
       " 'gadm': {'level0': {'gid': 'ECU', 'name': 'Ecuador'},\n",
       "  'level1': {'gid': 'ECU.24_1', 'name': 'Zamora Chinchipe'},\n",
       "  'level2': {'gid': 'ECU.24.9_1', 'name': 'Zamora'},\n",
       "  'level3': {'gid': 'ECU.24.9.7_1', 'name': 'Zamora'}},\n",
       " 'year': 2016,\n",
       " 'month': 10,\n",
       " 'day': 15,\n",
       " 'eventDate': '2016-10-15',\n",
       " 'startDayOfYear': 289,\n",
       " 'endDayOfYear': 289,\n",
       " 'issues': ['COORDINATE_ROUNDED',\n",
       "  'CONTINENT_DERIVED_FROM_COORDINATES',\n",
       "  'TAXON_MATCH_TAXON_CONCEPT_ID_IGNORED'],\n",
       " 'lastInterpreted': '2025-02-05T01:03:29.507+00:00',\n",
       " 'license': 'http://creativecommons.org/licenses/by/4.0/legalcode',\n",
       " 'isSequenced': False,\n",
       " 'identifiers': [{'identifier': 'OBS530014911'}],\n",
       " 'media': [],\n",
       " 'facts': [],\n",
       " 'relations': [],\n",
       " 'isInCluster': False,\n",
       " 'recordedBy': 'obsr288361',\n",
       " 'geodeticDatum': 'WGS84',\n",
       " 'class': 'Aves',\n",
       " 'countryCode': 'EC',\n",
       " 'recordedByIDs': [],\n",
       " 'identifiedByIDs': [],\n",
       " 'gbifRegion': 'LATIN_AMERICA',\n",
       " 'country': 'Ecuador',\n",
       " 'publishedByGbifRegion': 'LATIN_AMERICA',\n",
       " 'identifier': 'OBS530014911',\n",
       " 'catalogNumber': 'OBS530014911',\n",
       " 'vernacularName': 'Little Woodstar',\n",
       " 'institutionCode': 'CLO',\n",
       " 'taxonConceptID': 'avibase-E15587CB',\n",
       " 'locality': 'Copalinga Lodge',\n",
       " 'gbifID': '1792076088',\n",
       " 'collectionCode': 'EBIRD',\n",
       " 'occurrenceID': 'URN:catalog:CLO:EBIRD:OBS530014911'}"
      ]
     },
     "execution_count": 14,
     "metadata": {},
     "output_type": "execute_result"
    }
   ],
   "source": [
    "# here is the first record, it's also a dictionary\n",
    "rdict[\"results\"][0]"
   ]
  },
  {
   "cell_type": "code",
   "execution_count": 15,
   "metadata": {},
   "outputs": [
    {
     "data": {
      "text/html": [
       "<div>\n",
       "<style scoped>\n",
       "    .dataframe tbody tr th:only-of-type {\n",
       "        vertical-align: middle;\n",
       "    }\n",
       "\n",
       "    .dataframe tbody tr th {\n",
       "        vertical-align: top;\n",
       "    }\n",
       "\n",
       "    .dataframe thead th {\n",
       "        text-align: right;\n",
       "    }\n",
       "</style>\n",
       "<table border=\"1\" class=\"dataframe\">\n",
       "  <thead>\n",
       "    <tr style=\"text-align: right;\">\n",
       "      <th></th>\n",
       "      <th>key</th>\n",
       "      <th>datasetKey</th>\n",
       "      <th>publishingOrgKey</th>\n",
       "      <th>installationKey</th>\n",
       "      <th>hostingOrganizationKey</th>\n",
       "      <th>publishingCountry</th>\n",
       "      <th>protocol</th>\n",
       "      <th>lastCrawled</th>\n",
       "      <th>lastParsed</th>\n",
       "      <th>crawlId</th>\n",
       "      <th>...</th>\n",
       "      <th>collectionCode</th>\n",
       "      <th>occurrenceID</th>\n",
       "      <th>gadm.level0.gid</th>\n",
       "      <th>gadm.level0.name</th>\n",
       "      <th>gadm.level1.gid</th>\n",
       "      <th>gadm.level1.name</th>\n",
       "      <th>gadm.level2.gid</th>\n",
       "      <th>gadm.level2.name</th>\n",
       "      <th>gadm.level3.gid</th>\n",
       "      <th>gadm.level3.name</th>\n",
       "    </tr>\n",
       "  </thead>\n",
       "  <tbody>\n",
       "    <tr>\n",
       "      <th>0</th>\n",
       "      <td>1792076088</td>\n",
       "      <td>4fa7b334-ce0d-4e88-aaae-2e0c138d049e</td>\n",
       "      <td>e2e717bf-551a-4917-bdc9-4fa0f342c530</td>\n",
       "      <td>7182d304-b0a2-404b-baba-2086a325c221</td>\n",
       "      <td>e2e717bf-551a-4917-bdc9-4fa0f342c530</td>\n",
       "      <td>EC</td>\n",
       "      <td>DWC_ARCHIVE</td>\n",
       "      <td>2024-09-27T13:35:39.907+00:00</td>\n",
       "      <td>2025-02-05T01:03:29.507+00:00</td>\n",
       "      <td>20</td>\n",
       "      <td>...</td>\n",
       "      <td>EBIRD</td>\n",
       "      <td>URN:catalog:CLO:EBIRD:OBS530014911</td>\n",
       "      <td>ECU</td>\n",
       "      <td>Ecuador</td>\n",
       "      <td>ECU.24_1</td>\n",
       "      <td>Zamora Chinchipe</td>\n",
       "      <td>ECU.24.9_1</td>\n",
       "      <td>Zamora</td>\n",
       "      <td>ECU.24.9.7_1</td>\n",
       "      <td>Zamora</td>\n",
       "    </tr>\n",
       "    <tr>\n",
       "      <th>1</th>\n",
       "      <td>3580016382</td>\n",
       "      <td>4fa7b334-ce0d-4e88-aaae-2e0c138d049e</td>\n",
       "      <td>e2e717bf-551a-4917-bdc9-4fa0f342c530</td>\n",
       "      <td>7182d304-b0a2-404b-baba-2086a325c221</td>\n",
       "      <td>e2e717bf-551a-4917-bdc9-4fa0f342c530</td>\n",
       "      <td>EC</td>\n",
       "      <td>DWC_ARCHIVE</td>\n",
       "      <td>2024-09-27T13:35:39.907+00:00</td>\n",
       "      <td>2025-02-05T05:16:27.384+00:00</td>\n",
       "      <td>20</td>\n",
       "      <td>...</td>\n",
       "      <td>EBIRD</td>\n",
       "      <td>URN:catalog:CLO:EBIRD:OBS1291231701</td>\n",
       "      <td>ECU</td>\n",
       "      <td>Ecuador</td>\n",
       "      <td>ECU.24_1</td>\n",
       "      <td>Zamora Chinchipe</td>\n",
       "      <td>ECU.24.8_1</td>\n",
       "      <td>Yantzaza</td>\n",
       "      <td>ECU.24.8.3_1</td>\n",
       "      <td>Yantzaza (Yanzatza)</td>\n",
       "    </tr>\n",
       "    <tr>\n",
       "      <th>2</th>\n",
       "      <td>1725223274</td>\n",
       "      <td>4fa7b334-ce0d-4e88-aaae-2e0c138d049e</td>\n",
       "      <td>e2e717bf-551a-4917-bdc9-4fa0f342c530</td>\n",
       "      <td>7182d304-b0a2-404b-baba-2086a325c221</td>\n",
       "      <td>e2e717bf-551a-4917-bdc9-4fa0f342c530</td>\n",
       "      <td>PE</td>\n",
       "      <td>DWC_ARCHIVE</td>\n",
       "      <td>2024-09-27T13:35:39.907+00:00</td>\n",
       "      <td>2025-02-05T04:01:36.067+00:00</td>\n",
       "      <td>20</td>\n",
       "      <td>...</td>\n",
       "      <td>EBIRD</td>\n",
       "      <td>URN:catalog:CLO:EBIRD:OBS388078755</td>\n",
       "      <td>PER</td>\n",
       "      <td>Peru</td>\n",
       "      <td>PER.1_1</td>\n",
       "      <td>Amazonas</td>\n",
       "      <td>PER.1.3_1</td>\n",
       "      <td>Chachapoyas</td>\n",
       "      <td>PER.1.3.12_1</td>\n",
       "      <td>Magdalena</td>\n",
       "    </tr>\n",
       "    <tr>\n",
       "      <th>3</th>\n",
       "      <td>4355556963</td>\n",
       "      <td>4fa7b334-ce0d-4e88-aaae-2e0c138d049e</td>\n",
       "      <td>e2e717bf-551a-4917-bdc9-4fa0f342c530</td>\n",
       "      <td>7182d304-b0a2-404b-baba-2086a325c221</td>\n",
       "      <td>e2e717bf-551a-4917-bdc9-4fa0f342c530</td>\n",
       "      <td>PE</td>\n",
       "      <td>DWC_ARCHIVE</td>\n",
       "      <td>2024-09-27T13:35:39.907+00:00</td>\n",
       "      <td>2025-02-05T05:20:08.282+00:00</td>\n",
       "      <td>20</td>\n",
       "      <td>...</td>\n",
       "      <td>EBIRD</td>\n",
       "      <td>URN:catalog:CLO:EBIRD:OBS1339820584</td>\n",
       "      <td>PER</td>\n",
       "      <td>Peru</td>\n",
       "      <td>PER.23_1</td>\n",
       "      <td>San Martín</td>\n",
       "      <td>PER.23.8_1</td>\n",
       "      <td>Rioja</td>\n",
       "      <td>PER.23.8.4_1</td>\n",
       "      <td>Pardo Miguel</td>\n",
       "    </tr>\n",
       "    <tr>\n",
       "      <th>4</th>\n",
       "      <td>3560221744</td>\n",
       "      <td>4fa7b334-ce0d-4e88-aaae-2e0c138d049e</td>\n",
       "      <td>e2e717bf-551a-4917-bdc9-4fa0f342c530</td>\n",
       "      <td>7182d304-b0a2-404b-baba-2086a325c221</td>\n",
       "      <td>e2e717bf-551a-4917-bdc9-4fa0f342c530</td>\n",
       "      <td>EC</td>\n",
       "      <td>DWC_ARCHIVE</td>\n",
       "      <td>2024-09-27T13:35:39.907+00:00</td>\n",
       "      <td>2025-02-05T02:28:36.392+00:00</td>\n",
       "      <td>20</td>\n",
       "      <td>...</td>\n",
       "      <td>EBIRD</td>\n",
       "      <td>URN:catalog:CLO:EBIRD:OBS1295620793</td>\n",
       "      <td>ECU</td>\n",
       "      <td>Ecuador</td>\n",
       "      <td>ECU.7_1</td>\n",
       "      <td>El Oro</td>\n",
       "      <td>ECU.7.11_1</td>\n",
       "      <td>Piñas</td>\n",
       "      <td>ECU.7.11.3_1</td>\n",
       "      <td>Moromoro (Cab. En El Vado)</td>\n",
       "    </tr>\n",
       "  </tbody>\n",
       "</table>\n",
       "<p>5 rows × 80 columns</p>\n",
       "</div>"
      ],
      "text/plain": [
       "          key                            datasetKey  \\\n",
       "0  1792076088  4fa7b334-ce0d-4e88-aaae-2e0c138d049e   \n",
       "1  3580016382  4fa7b334-ce0d-4e88-aaae-2e0c138d049e   \n",
       "2  1725223274  4fa7b334-ce0d-4e88-aaae-2e0c138d049e   \n",
       "3  4355556963  4fa7b334-ce0d-4e88-aaae-2e0c138d049e   \n",
       "4  3560221744  4fa7b334-ce0d-4e88-aaae-2e0c138d049e   \n",
       "\n",
       "                       publishingOrgKey                       installationKey  \\\n",
       "0  e2e717bf-551a-4917-bdc9-4fa0f342c530  7182d304-b0a2-404b-baba-2086a325c221   \n",
       "1  e2e717bf-551a-4917-bdc9-4fa0f342c530  7182d304-b0a2-404b-baba-2086a325c221   \n",
       "2  e2e717bf-551a-4917-bdc9-4fa0f342c530  7182d304-b0a2-404b-baba-2086a325c221   \n",
       "3  e2e717bf-551a-4917-bdc9-4fa0f342c530  7182d304-b0a2-404b-baba-2086a325c221   \n",
       "4  e2e717bf-551a-4917-bdc9-4fa0f342c530  7182d304-b0a2-404b-baba-2086a325c221   \n",
       "\n",
       "                 hostingOrganizationKey publishingCountry     protocol  \\\n",
       "0  e2e717bf-551a-4917-bdc9-4fa0f342c530                EC  DWC_ARCHIVE   \n",
       "1  e2e717bf-551a-4917-bdc9-4fa0f342c530                EC  DWC_ARCHIVE   \n",
       "2  e2e717bf-551a-4917-bdc9-4fa0f342c530                PE  DWC_ARCHIVE   \n",
       "3  e2e717bf-551a-4917-bdc9-4fa0f342c530                PE  DWC_ARCHIVE   \n",
       "4  e2e717bf-551a-4917-bdc9-4fa0f342c530                EC  DWC_ARCHIVE   \n",
       "\n",
       "                     lastCrawled                     lastParsed  crawlId  ...  \\\n",
       "0  2024-09-27T13:35:39.907+00:00  2025-02-05T01:03:29.507+00:00       20  ...   \n",
       "1  2024-09-27T13:35:39.907+00:00  2025-02-05T05:16:27.384+00:00       20  ...   \n",
       "2  2024-09-27T13:35:39.907+00:00  2025-02-05T04:01:36.067+00:00       20  ...   \n",
       "3  2024-09-27T13:35:39.907+00:00  2025-02-05T05:20:08.282+00:00       20  ...   \n",
       "4  2024-09-27T13:35:39.907+00:00  2025-02-05T02:28:36.392+00:00       20  ...   \n",
       "\n",
       "  collectionCode                         occurrenceID gadm.level0.gid  \\\n",
       "0          EBIRD   URN:catalog:CLO:EBIRD:OBS530014911             ECU   \n",
       "1          EBIRD  URN:catalog:CLO:EBIRD:OBS1291231701             ECU   \n",
       "2          EBIRD   URN:catalog:CLO:EBIRD:OBS388078755             PER   \n",
       "3          EBIRD  URN:catalog:CLO:EBIRD:OBS1339820584             PER   \n",
       "4          EBIRD  URN:catalog:CLO:EBIRD:OBS1295620793             ECU   \n",
       "\n",
       "   gadm.level0.name  gadm.level1.gid  gadm.level1.name  gadm.level2.gid  \\\n",
       "0           Ecuador         ECU.24_1  Zamora Chinchipe       ECU.24.9_1   \n",
       "1           Ecuador         ECU.24_1  Zamora Chinchipe       ECU.24.8_1   \n",
       "2              Peru          PER.1_1          Amazonas        PER.1.3_1   \n",
       "3              Peru         PER.23_1        San Martín       PER.23.8_1   \n",
       "4           Ecuador          ECU.7_1            El Oro       ECU.7.11_1   \n",
       "\n",
       "   gadm.level2.name  gadm.level3.gid            gadm.level3.name  \n",
       "0            Zamora     ECU.24.9.7_1                      Zamora  \n",
       "1          Yantzaza     ECU.24.8.3_1         Yantzaza (Yanzatza)  \n",
       "2       Chachapoyas     PER.1.3.12_1                   Magdalena  \n",
       "3             Rioja     PER.23.8.4_1                Pardo Miguel  \n",
       "4             Piñas     ECU.7.11.3_1  Moromoro (Cab. En El Vado)  \n",
       "\n",
       "[5 rows x 80 columns]"
      ]
     },
     "execution_count": 15,
     "metadata": {},
     "output_type": "execute_result"
    }
   ],
   "source": [
    "# load as a dataframe\n",
    "sdf = pd.json_normalize(rdict['results'])\n",
    "sdf.head()"
   ]
  },
  {
   "cell_type": "code",
   "execution_count": 16,
   "metadata": {},
   "outputs": [
    {
     "data": {
      "text/plain": [
       "Index(['key', 'datasetKey', 'publishingOrgKey', 'installationKey',\n",
       "       'hostingOrganizationKey', 'publishingCountry', 'protocol',\n",
       "       'lastCrawled', 'lastParsed', 'crawlId', 'basisOfRecord',\n",
       "       'individualCount', 'occurrenceStatus', 'taxonKey', 'kingdomKey',\n",
       "       'phylumKey', 'classKey', 'orderKey', 'familyKey', 'genusKey',\n",
       "       'speciesKey', 'acceptedTaxonKey', 'scientificName',\n",
       "       'acceptedScientificName', 'kingdom', 'phylum', 'order', 'family',\n",
       "       'genus', 'species', 'genericName', 'specificEpithet', 'taxonRank',\n",
       "       'taxonomicStatus', 'iucnRedListCategory', 'decimalLatitude',\n",
       "       'decimalLongitude', 'continent', 'stateProvince', 'year', 'month',\n",
       "       'day', 'eventDate', 'startDayOfYear', 'endDayOfYear', 'issues',\n",
       "       'lastInterpreted', 'license', 'isSequenced', 'identifiers', 'media',\n",
       "       'facts', 'relations', 'isInCluster', 'recordedBy', 'geodeticDatum',\n",
       "       'class', 'countryCode', 'recordedByIDs', 'identifiedByIDs',\n",
       "       'gbifRegion', 'country', 'publishedByGbifRegion', 'identifier',\n",
       "       'catalogNumber', 'vernacularName', 'institutionCode', 'taxonConceptID',\n",
       "       'locality', 'gbifID', 'collectionCode', 'occurrenceID',\n",
       "       'gadm.level0.gid', 'gadm.level0.name', 'gadm.level1.gid',\n",
       "       'gadm.level1.name', 'gadm.level2.gid', 'gadm.level2.name',\n",
       "       'gadm.level3.gid', 'gadm.level3.name'],\n",
       "      dtype='object')"
      ]
     },
     "execution_count": 16,
     "metadata": {},
     "output_type": "execute_result"
    }
   ],
   "source": [
    "sdf.columns"
   ]
  },
  {
   "cell_type": "code",
   "execution_count": 17,
   "metadata": {},
   "outputs": [],
   "source": [
    "# previously we wrote this request by hand\n",
    "urlpath = \"http://api.gbif.org/v1/occurrence/search?q=Bombus\""
   ]
  },
  {
   "cell_type": "code",
   "execution_count": 18,
   "metadata": {},
   "outputs": [
    {
     "data": {
      "text/plain": [
       "'{\"offset\":0,\"limit\":20,\"endOfRecords\":false,\"count\":3924237,\"results\":[{\"key\":1792076088,\"datasetKey\":\"4fa7b334-ce0d-4e88-aaae-2e0c138d049e\",\"publishingOrgKey\":\"e2e717bf-551a-4917-bdc9-4fa0f342c530\",\"installationKey\":\"7182d304-b0a2-404b-baba-2086a325c221\",\"hostingOrganizationKey\":\"e2e717bf-551a-4917-bdc9-4fa0f342c530\",\"publishingCountry\":\"EC\",\"protocol\":\"DWC_ARCHIVE\",\"lastCrawled\":\"2024-09-27T13:35:39.907+00:00\",\"lastParsed\":\"2025-02-05T01:03:29.507+00:00\",\"crawlId\":20,\"extensions\":{},\"basisOfRecord\":\"HUMAN_OBSERVATION\",\"individualCount\":1,\"occurrenceStatus\":\"PRESENT\",\"taxonKey\":5228583,\"kingdomKey\":1,\"phylumKey\":44,\"classKey\":212,\"orderKey\":1448,\"familyKey\":5289,\"genusKey\":2476913,\"speciesKey\":5228583,\"acceptedTaxonKey\":5228583,\"scientificName\":\"Chaetocercus bombus Gould, 1871\",\"acceptedScientificName\":\"Chaetocercus bombus Gould, 1871\",\"kingdom\":\"Animalia\",\"phylum\":\"Chordata\",\"order\":\"Apodiformes\",\"family\":\"Trochilidae\",\"genus\":\"Chaetocercus\",\"species\":\"Chaetocercus bombus\",\"genericName\":\"Chaetocercus\",\"specificEpithet\":\"bombus\",\"taxonRank\":\"SPECIES\",\"taxonomicStatus\":\"ACCEPTED\",\"iucnRedListCategory\":\"NT\",\"decimalLatitude\":-4.090851,\"decimalLongitude\":-78.95827,\"continent\":\"SOUTH_AMERICA\",\"stateProvince\":\"Zamora-Chinchipe\",\"gadm\":{\"level0\":{\"gid\":\"ECU\",\"name\":\"Ecuador\"},\"level1\":{\"gid\":\"ECU.24_1\",\"name\":\"Zamora Chinchipe\"},\"level2\":{\"gid\":\"ECU.24.9_1\",\"name\":\"Zamora\"},\"level3\":{\"gid\":\"ECU.24.9.7_1\",\"name\":\"Zamora\"}},\"year\":2016,\"month\":10,\"day\":15,\"eventDate\":\"2016-10-15\",\"startDayOfYear\":289,\"endDayOfYear\":289,\"issues\":[\"COORDINATE_ROUNDED\",\"CONTINENT_DERIVED_FROM_COORDINATES\",\"TAXON_MATCH_TAXON_CONCEPT_ID_IGNORED\"],\"lastInterpreted\":\"2025-02-05T01:03:29.507+00:00\",\"license\":\"http://creativecommons.org/licenses/by/4.0/legalcode\",\"isSequenced\":false,\"identifiers\":[{\"identifier\":\"OBS530014911\"}],\"media\":[],\"facts\":[],\"relations\":[],\"isInCluster\":false,\"recordedBy\":\"obsr288361\",\"geodeticDatum\":\"WGS84\",\"class\":\"Aves\",\"countryCode\":\"EC\",\"recordedByIDs\":[],\"identifiedByIDs\":[],\"gbifRegion\":\"LATIN_AMERICA\",\"country\":\"Ecuador\",\"publishedByGbifRegion\":\"LATIN_AMERICA\",\"identifier\":\"OBS530014911\",\"catalogNumber\":\"OBS530014911\",\"vernacularName\":\"Little Woodstar\",\"institutionCode\":\"CLO\",\"taxonConceptID\":\"avibase-E15587CB\",\"locality\":\"Copalinga Lodge\",\"collectionCode\":\"EBIRD\",\"gbifID\":\"1792076088\",\"occurrenceID\":\"URN:catalog:CLO:EBIRD:OBS530014911\"},{\"key\":3580016382,\"datasetKey\":\"4fa7b334-ce0d-4e88-aaae-2e0c138d049e\",\"publishingOrgKey\":\"e2e717bf-551a-4917-bdc9-4fa0f342c530\",\"installationKey\":\"7182d304-b0a2-404b-baba-2086a325c221\",\"hostingOrganizationKey\":\"e2e717bf-551a-4917-bdc9-4fa0f342c530\",\"publishingCountry\":\"EC\",\"protocol\":\"DWC_ARCHIVE\",\"lastCrawled\":\"2024-09-27T13:35:39.907+00:00\",\"lastParsed\":\"2025-02-05T05:16:27.384+00:00\",\"crawlId\":20,\"extensions\":{},\"basisOfRecord\":\"HUMAN_OBSERVATION\",\"individualCount\":2,\"occurrenceStatus\":\"PRESENT\",\"taxonKey\":5228583,\"kingdomKey\":1,\"phylumKey\":44,\"classKey\":212,\"orderKey\":1448,\"familyKey\":5289,\"genusKey\":2476913,\"speciesKey\":5228583,\"acceptedTaxonKey\":5228583,\"scientificName\":\"Chaetocercus bombus Gould, 1871\",\"acceptedScientificName\":\"Chaetocercus bombus Gould, 1871\",\"kingdom\":\"Animalia\",\"phylum\":\"Chordata\",\"order\":\"Apodiformes\",\"family\":\"Trochilidae\",\"genus\":\"Chaetocercus\",\"species\":\"Chaetocercus bombus\",\"genericName\":\"Chaetocercus\",\"specificEpithet\":\"bombus\",\"taxonRank\":\"SPECIES\",\"taxonomicStatus\":\"ACCEPTED\",\"iucnRedListCategory\":\"NT\",\"decimalLatitude\":-3.832273,\"decimalLongitude\":-78.775314,\"continent\":\"SOUTH_AMERICA\",\"stateProvince\":\"Zamora-Chinchipe\",\"gadm\":{\"level0\":{\"gid\":\"ECU\",\"name\":\"Ecuador\"},\"level1\":{\"gid\":\"ECU.24_1\",\"name\":\"Zamora Chinchipe\"},\"level2\":{\"gid\":\"ECU.24.8_1\",\"name\":\"Yantzaza\"},\"level3\":{\"gid\":\"ECU.24.8.3_1\",\"name\":\"Yantzaza (Yanzatza)\"}},\"year\":2021,\"month\":12,\"day\":7,\"eventDate\":\"2021-12-07\",\"startDayOfYear\":341,\"endDayOfYear\":341,\"issues\":[\"COORDINATE_ROUNDED\",\"CONTINENT_DERIVED_FROM_COORDINATES\",\"TAXON_MATCH_TAXON_CONCEPT_ID_IGNORED\"],\"lastInterpreted\":\"2025-02-05T05:16:27.384+00:00\",\"license\":\"http://creativecommons.org/licenses/by/4.0/legalcode\",\"isSequenced\":false,\"identifiers\":[{\"identifier\":\"OBS1291231701\"}],\"media\":[],\"facts\":[],\"relations\":[],\"isInCluster\":false,\"recordedBy\":\"obsr570082\",\"geodeticDatum\":\"WGS84\",\"class\":\"Aves\",\"countryCode\":\"EC\",\"recordedByIDs\":[],\"identifiedByIDs\":[],\"gbifRegion\":\"LATIN_AMERICA\",\"country\":\"Ecuador\",\"publishedByGbifRegion\":\"LATIN_AMERICA\",\"identifier\":\"OBS1291231701\",\"catalogNumber\":\"OBS1291231701\",\"vernacularName\":\"Little Woodstar\",\"institutionCode\":\"CLO\",\"taxonConceptID\":\"avibase-E15587CB\",\"locality\":\"Mi Paradise\",\"collectionCode\":\"EBIRD\",\"gbifID\":\"3580016382\",\"occurrenceID\":\"URN:catalog:CLO:EBIRD:OBS1291231701\"},{\"key\":1725223274,\"datasetKey\":\"4fa7b334-ce0d-4e88-aaae-2e0c138d049e\",\"publishingOrgKey\":\"e2e717bf-551a-4917-bdc9-4fa0f342c530\",\"installationKey\":\"7182d304-b0a2-404b-baba-2086a325c221\",\"hostingOrganizationKey\":\"e2e717bf-551a-4917-bdc9-4fa0f342c530\",\"publishingCountry\":\"PE\",\"protocol\":\"DWC_ARCHIVE\",\"lastCrawled\":\"2024-09-27T13:35:39.907+00:00\",\"lastParsed\":\"2025-02-05T04:01:36.067+00:00\",\"crawlId\":20,\"extensions\":{},\"basisOfRecord\":\"HUMAN_OBSERVATION\",\"individualCount\":2,\"occurrenceStatus\":\"PRESENT\",\"taxonKey\":5228583,\"kingdomKey\":1,\"phylumKey\":44,\"classKey\":212,\"orderKey\":1448,\"familyKey\":5289,\"genusKey\":2476913,\"speciesKey\":5228583,\"acceptedTaxonKey\":5228583,\"scientificName\":\"Chaetocercus bombus Gould, 1871\",\"acceptedScientificName\":\"Chaetocercus bombus Gould, 1871\",\"kingdom\":\"Animalia\",\"phylum\":\"Chordata\",\"order\":\"Apodiformes\",\"family\":\"Trochilidae\",\"genus\":\"Chaetocercus\",\"species\":\"Chaetocercus bombus\",\"genericName\":\"Chaetocercus\",\"specificEpithet\":\"bombus\",\"taxonRank\":\"SPECIES\",\"taxonomicStatus\":\"ACCEPTED\",\"iucnRedListCategory\":\"NT\",\"decimalLatitude\":-6.406962,\"decimalLongitude\":-77.87754,\"continent\":\"SOUTH_AMERICA\",\"stateProvince\":\"Amazonas\",\"gadm\":{\"level0\":{\"gid\":\"PER\",\"name\":\"Peru\"},\"level1\":{\"gid\":\"PER.1_1\",\"name\":\"Amazonas\"},\"level2\":{\"gid\":\"PER.1.3_1\",\"name\":\"Chachapoyas\"},\"level3\":{\"gid\":\"PER.1.3.12_1\",\"name\":\"Magdalena\"}},\"year\":2016,\"month\":3,\"day\":17,\"eventDate\":\"2016-03-17\",\"startDayOfYear\":77,\"endDayOfYear\":77,\"issues\":[\"COORDINATE_ROUNDED\",\"CONTINENT_DERIVED_FROM_COORDINATES\",\"TAXON_MATCH_TAXON_CONCEPT_ID_IGNORED\"],\"lastInterpreted\":\"2025-02-05T04:01:36.067+00:00\",\"license\":\"http://creativecommons.org/licenses/by/4.0/legalcode\",\"isSequenced\":false,\"identifiers\":[{\"identifier\":\"OBS388078755\"}],\"media\":[],\"facts\":[],\"relations\":[],\"isInCluster\":false,\"recordedBy\":\"obsr162833\",\"geodeticDatum\":\"WGS84\",\"class\":\"Aves\",\"countryCode\":\"PE\",\"recordedByIDs\":[],\"identifiedByIDs\":[],\"gbifRegion\":\"LATIN_AMERICA\",\"country\":\"Peru\",\"publishedByGbifRegion\":\"LATIN_AMERICA\",\"identifier\":\"OBS388078755\",\"catalogNumber\":\"OBS388078755\",\"vernacularName\":\"Little Woodstar\",\"institutionCode\":\"CLO\",\"taxonConceptID\":\"avibase-E15587CB\",\"locality\":\"El Chillo Lodge\",\"collectionCode\":\"EBIRD\",\"gbifID\":\"1725223274\",\"occurrenceID\":\"URN:catalog:CLO:EBIRD:OBS388078755\"},{\"key\":4355556963,\"datasetKey\":\"4fa7b334-ce0d-4e88-aaae-2e0c138d049e\",\"publishingOrgKey\":\"e2e717bf-551a-4917-bdc9-4fa0f342c530\",\"installationKey\":\"7182d304-b0a2-404b-baba-2086a325c221\",\"hostingOrganizationKey\":\"e2e717bf-551a-4917-bdc9-4fa0f342c530\",\"publishingCountry\":\"PE\",\"protocol\":\"DWC_ARCHIVE\",\"lastCrawled\":\"2024-09-27T13:35:39.907+00:00\",\"lastParsed\":\"2025-02-05T05:20:08.282+00:00\",\"crawlId\":20,\"extensions\":{},\"basisOfRecord\":\"HUMAN_OBSERVATION\",\"individualCount\":1,\"occurrenceStatus\":\"PRESENT\",\"taxonKey\":5228583,\"kingdomKey\":1,\"phylumKey\":44,\"classKey\":212,\"orderKey\":1448,\"familyKey\":5289,\"genusKey\":2476913,\"speciesKey\":5228583,\"acceptedTaxonKey\":5228583,\"scientificName\":\"Chaetocercus bombus Gould, 1871\",\"acceptedScientificName\":\"Chaetocercus bombus Gould, 1871\",\"kingdom\":\"Animalia\",\"phylum\":\"Chordata\",\"order\":\"Apodiformes\",\"family\":\"Trochilidae\",\"genus\":\"Chaetocercus\",\"species\":\"Chaetocercus bombus\",\"genericName\":\"Chaetocercus\",\"specificEpithet\":\"bombus\",\"taxonRank\":\"SPECIES\",\"taxonomicStatus\":\"ACCEPTED\",\"iucnRedListCategory\":\"NT\",\"decimalLatitude\":-5.681544,\"decimalLongitude\":-77.63632,\"continent\":\"SOUTH_AMERICA\",\"stateProvince\":\"San Martín\",\"gadm\":{\"level0\":{\"gid\":\"PER\",\"name\":\"Peru\"},\"level1\":{\"gid\":\"PER.23_1\",\"name\":\"San Martín\"},\"level2\":{\"gid\":\"PER.23.8_1\",\"name\":\"Rioja\"},\"level3\":{\"gid\":\"PER.23.8.4_1\",\"name\":\"Pardo Miguel\"}},\"year\":2022,\"month\":2,\"day\":9,\"eventDate\":\"2022-02-09\",\"startDayOfYear\":40,\"endDayOfYear\":40,\"issues\":[\"CONTINENT_DERIVED_FROM_COORDINATES\",\"TAXON_MATCH_TAXON_CONCEPT_ID_IGNORED\"],\"lastInterpreted\":\"2025-02-05T05:20:08.282+00:00\",\"license\":\"http://creativecommons.org/licenses/by/4.0/legalcode\",\"isSequenced\":false,\"identifiers\":[{\"identifier\":\"OBS1339820584\"}],\"media\":[],\"facts\":[],\"relations\":[],\"isInCluster\":false,\"recordedBy\":\"obsr144913\",\"geodeticDatum\":\"WGS84\",\"class\":\"Aves\",\"countryCode\":\"PE\",\"recordedByIDs\":[],\"identifiedByIDs\":[],\"gbifRegion\":\"LATIN_AMERICA\",\"country\":\"Peru\",\"publishedByGbifRegion\":\"LATIN_AMERICA\",\"identifier\":\"OBS1339820584\",\"catalogNumber\":\"OBS1339820584\",\"vernacularName\":\"Little Woodstar\",\"institutionCode\":\"CLO\",\"taxonConceptID\":\"avibase-E15587CB\",\"locality\":\"Reserva Arena Blanca\",\"collectionCode\":\"EBIRD\",\"gbifID\":\"4355556963\",\"occurrenceID\":\"URN:catalog:CLO:EBIRD:OBS1339820584\"},{\"key\":3560221744,\"datasetKey\":\"4fa7b334-ce0d-4e88-aaae-2e0c138d049e\",\"publishingOrgKey\":\"e2e717bf-551a-4917-bdc9-4fa0f342c530\",\"installationKey\":\"7182d304-b0a2-404b-baba-2086a325c221\",\"hostingOrganizationKey\":\"e2e717bf-551a-4917-bdc9-4fa0f342c530\",\"publishingCountry\":\"EC\",\"protocol\":\"DWC_ARCHIVE\",\"lastCrawled\":\"2024-09-27T13:35:39.907+00:00\",\"lastParsed\":\"2025-02-05T02:28:36.392+00:00\",\"crawlId\":20,\"extensions\":{},\"basisOfRecord\":\"HUMAN_OBSERVATION\",\"individualCount\":1,\"occurrenceStatus\":\"PRESENT\",\"taxonKey\":5228583,\"kingdomKey\":1,\"phylumKey\":44,\"classKey\":212,\"orderKey\":1448,\"familyKey\":5289,\"genusKey\":2476913,\"speciesKey\":5228583,\"acceptedTaxonKey\":5228583,\"scientificName\":\"Chaetocercus bombus Gould, 1871\",\"acceptedScientificName\":\"Chaetocercus bombus Gould, 1871\",\"kingdom\":\"Animalia\",\"phylum\":\"Chordata\",\"order\":\"Apodiformes\",\"family\":\"Trochilidae\",\"genus\":\"Chaetocercus\",\"species\":\"Chaetocercus bombus\",\"genericName\":\"Chaetocercus\",\"specificEpithet\":\"bombus\",\"taxonRank\":\"SPECIES\",\"taxonomicStatus\":\"ACCEPTED\",\"iucnRedListCategory\":\"NT\",\"decimalLatitude\":-3.653953,\"decimalLongitude\":-79.76803,\"continent\":\"SOUTH_AMERICA\",\"stateProvince\":\"El Oro\",\"gadm\":{\"level0\":{\"gid\":\"ECU\",\"name\":\"Ecuador\"},\"level1\":{\"gid\":\"ECU.7_1\",\"name\":\"El Oro\"},\"level2\":{\"gid\":\"ECU.7.11_1\",\"name\":\"Piñas\"},\"level3\":{\"gid\":\"ECU.7.11.3_1\",\"name\":\"Moromoro (Cab. En El Vado)\"}},\"year\":2019,\"month\":11,\"day\":23,\"eventDate\":\"2019-11-23\",\"startDayOfYear\":327,\"endDayOfYear\":327,\"issues\":[\"CONTINENT_DERIVED_FROM_COORDINATES\",\"TAXON_MATCH_TAXON_CONCEPT_ID_IGNORED\"],\"lastInterpreted\":\"2025-02-05T02:28:36.392+00:00\",\"license\":\"http://creativecommons.org/licenses/by/4.0/legalcode\",\"isSequenced\":false,\"identifiers\":[{\"identifier\":\"OBS1295620793\"}],\"media\":[],\"facts\":[],\"relations\":[],\"isInCluster\":false,\"recordedBy\":\"obsr626245\",\"geodeticDatum\":\"WGS84\",\"class\":\"Aves\",\"countryCode\":\"EC\",\"recordedByIDs\":[],\"identifiedByIDs\":[],\"gbifRegion\":\"LATIN_AMERICA\",\"country\":\"Ecuador\",\"publishedByGbifRegion\":\"LATIN_AMERICA\",\"identifier\":\"OBS1295620793\",\"catalogNumber\":\"OBS1295620793\",\"vernacularName\":\"Little Woodstar\",\"institutionCode\":\"CLO\",\"taxonConceptID\":\"avibase-E15587CB\",\"locality\":\"Reserva Buenaventura--Umbrellabird Lodge and lower road\",\"collectionCode\":\"EBIRD\",\"gbifID\":\"3560221744\",\"occurrenceID\":\"URN:catalog:CLO:EBIRD:OBS1295620793\"},{\"key\":4653890779,\"datasetKey\":\"4fa7b334-ce0d-4e88-aaae-2e0c138d049e\",\"publishingOrgKey\":\"e2e717bf-551a-4917-bdc9-4fa0f342c530\",\"installationKey\":\"7182d304-b0a2-404b-baba-2086a325c221\",\"hostingOrganizationKey\":\"e2e717bf-551a-4917-bdc9-4fa0f342c530\",\"publishingCountry\":\"PE\",\"protocol\":\"DWC_ARCHIVE\",\"lastCrawled\":\"2024-09-27T13:35:39.907+00:00\",\"lastParsed\":\"2025-02-05T06:01:21.361+00:00\",\"crawlId\":20,\"extensions\":{},\"basisOfRecord\":\"HUMAN_OBSERVATION\",\"occurrenceStatus\":\"PRESENT\",\"taxonKey\":5228583,\"kingdomKey\":1,\"phylumKey\":44,\"classKey\":212,\"orderKey\":1448,\"familyKey\":5289,\"genusKey\":2476913,\"speciesKey\":5228583,\"acceptedTaxonKey\":5228583,\"scientificName\":\"Chaetocercus bombus Gould, 1871\",\"acceptedScientificName\":\"Chaetocercus bombus Gould, 1871\",\"kingdom\":\"Animalia\",\"phylum\":\"Chordata\",\"order\":\"Apodiformes\",\"family\":\"Trochilidae\",\"genus\":\"Chaetocercus\",\"species\":\"Chaetocercus bombus\",\"genericName\":\"Chaetocercus\",\"specificEpithet\":\"bombus\",\"taxonRank\":\"SPECIES\",\"taxonomicStatus\":\"ACCEPTED\",\"iucnRedListCategory\":\"NT\",\"decimalLatitude\":-5.857659,\"decimalLongitude\":-77.984726,\"continent\":\"SOUTH_AMERICA\",\"stateProvince\":\"Amazonas\",\"gadm\":{\"level0\":{\"gid\":\"PER\",\"name\":\"Peru\"},\"level1\":{\"gid\":\"PER.1_1\",\"name\":\"Amazonas\"},\"level2\":{\"gid\":\"PER.1.2_1\",\"name\":\"Bongará\"},\"level3\":{\"gid\":\"PER.1.2.5_1\",\"name\":\"Florida\"}},\"year\":2023,\"month\":11,\"day\":8,\"eventDate\":\"2023-11-08\",\"startDayOfYear\":312,\"endDayOfYear\":312,\"issues\":[\"CONTINENT_DERIVED_FROM_COORDINATES\",\"TAXON_MATCH_TAXON_CONCEPT_ID_IGNORED\"],\"lastInterpreted\":\"2025-02-05T06:01:21.361+00:00\",\"license\":\"http://creativecommons.org/licenses/by/4.0/legalcode\",\"isSequenced\":false,\"identifiers\":[{\"identifier\":\"OBS1870622770\"}],\"media\":[],\"facts\":[],\"relations\":[],\"isInCluster\":false,\"recordedBy\":\"obsr1529321\",\"geodeticDatum\":\"WGS84\",\"class\":\"Aves\",\"countryCode\":\"PE\",\"recordedByIDs\":[],\"identifiedByIDs\":[],\"gbifRegion\":\"LATIN_AMERICA\",\"country\":\"Peru\",\"publishedByGbifRegion\":\"LATIN_AMERICA\",\"identifier\":\"OBS1870622770\",\"catalogNumber\":\"OBS1870622770\",\"vernacularName\":\"Little Woodstar\",\"institutionCode\":\"CLO\",\"taxonConceptID\":\"avibase-E15587CB\",\"locality\":\"Reserva Huembo\",\"collectionCode\":\"EBIRD\",\"gbifID\":\"4653890779\",\"occurrenceID\":\"URN:catalog:CLO:EBIRD:OBS1870622770\"},{\"key\":3185318847,\"datasetKey\":\"4fa7b334-ce0d-4e88-aaae-2e0c138d049e\",\"publishingOrgKey\":\"e2e717bf-551a-4917-bdc9-4fa0f342c530\",\"installationKey\":\"7182d304-b0a2-404b-baba-2086a325c221\",\"hostingOrganizationKey\":\"e2e717bf-551a-4917-bdc9-4fa0f342c530\",\"publishingCountry\":\"PE\",\"protocol\":\"DWC_ARCHIVE\",\"lastCrawled\":\"2024-09-27T13:35:39.907+00:00\",\"lastParsed\":\"2025-02-05T04:53:31.748+00:00\",\"crawlId\":20,\"extensions\":{},\"basisOfRecord\":\"HUMAN_OBSERVATION\",\"occurrenceStatus\":\"PRESENT\",\"taxonKey\":5228583,\"kingdomKey\":1,\"phylumKey\":44,\"classKey\":212,\"orderKey\":1448,\"familyKey\":5289,\"genusKey\":2476913,\"speciesKey\":5228583,\"acceptedTaxonKey\":5228583,\"scientificName\":\"Chaetocercus bombus Gould, 1871\",\"acceptedScientificName\":\"Chaetocercus bombus Gould, 1871\",\"kingdom\":\"Animalia\",\"phylum\":\"Chordata\",\"order\":\"Apodiformes\",\"family\":\"Trochilidae\",\"genus\":\"Chaetocercus\",\"species\":\"Chaetocercus bombus\",\"genericName\":\"Chaetocercus\",\"specificEpithet\":\"bombus\",\"taxonRank\":\"SPECIES\",\"taxonomicStatus\":\"ACCEPTED\",\"iucnRedListCategory\":\"NT\",\"decimalLatitude\":-5.857659,\"decimalLongitude\":-77.984726,\"continent\":\"SOUTH_AMERICA\",\"stateProvince\":\"Amazonas\",\"gadm\":{\"level0\":{\"gid\":\"PER\",\"name\":\"Peru\"},\"level1\":{\"gid\":\"PER.1_1\",\"name\":\"Amazonas\"},\"level2\":{\"gid\":\"PER.1.2_1\",\"name\":\"Bongará\"},\"level3\":{\"gid\":\"PER.1.2.5_1\",\"name\":\"Florida\"}},\"year\":2011,\"month\":8,\"day\":14,\"eventDate\":\"2011-08-14\",\"startDayOfYear\":226,\"endDayOfYear\":226,\"issues\":[\"CONTINENT_DERIVED_FROM_COORDINATES\",\"TAXON_MATCH_TAXON_CONCEPT_ID_IGNORED\"],\"lastInterpreted\":\"2025-02-05T04:53:31.748+00:00\",\"license\":\"http://creativecommons.org/licenses/by/4.0/legalcode\",\"isSequenced\":false,\"identifiers\":[{\"identifier\":\"OBS983410332\"}],\"media\":[],\"facts\":[],\"relations\":[],\"isInCluster\":false,\"recordedBy\":\"obsr848130\",\"geodeticDatum\":\"WGS84\",\"class\":\"Aves\",\"countryCode\":\"PE\",\"recordedByIDs\":[],\"identifiedByIDs\":[],\"gbifRegion\":\"LATIN_AMERICA\",\"country\":\"Peru\",\"publishedByGbifRegion\":\"LATIN_AMERICA\",\"identifier\":\"OBS983410332\",\"catalogNumber\":\"OBS983410332\",\"vernacularName\":\"Little Woodstar\",\"institutionCode\":\"CLO\",\"taxonConceptID\":\"avibase-E15587CB\",\"locality\":\"Reserva Huembo\",\"collectionCode\":\"EBIRD_PE\",\"gbifID\":\"3185318847\",\"occurrenceID\":\"URN:catalog:CLO:EBIRD_PE:OBS983410332\"},{\"key\":4316819423,\"datasetKey\":\"4fa7b334-ce0d-4e88-aaae-2e0c138d049e\",\"publishingOrgKey\":\"e2e717bf-551a-4917-bdc9-4fa0f342c530\",\"installationKey\":\"7182d304-b0a2-404b-baba-2086a325c221\",\"hostingOrganizationKey\":\"e2e717bf-551a-4917-bdc9-4fa0f342c530\",\"publishingCountry\":\"EC\",\"protocol\":\"DWC_ARCHIVE\",\"lastCrawled\":\"2024-09-27T13:35:39.907+00:00\",\"lastParsed\":\"2025-02-05T05:19:01.558+00:00\",\"crawlId\":20,\"extensions\":{},\"basisOfRecord\":\"HUMAN_OBSERVATION\",\"individualCount\":5,\"occurrenceStatus\":\"PRESENT\",\"taxonKey\":5228583,\"kingdomKey\":1,\"phylumKey\":44,\"classKey\":212,\"orderKey\":1448,\"familyKey\":5289,\"genusKey\":2476913,\"speciesKey\":5228583,\"acceptedTaxonKey\":5228583,\"scientificName\":\"Chaetocercus bombus Gould, 1871\",\"acceptedScientificName\":\"Chaetocercus bombus Gould, 1871\",\"kingdom\":\"Animalia\",\"phylum\":\"Chordata\",\"order\":\"Apodiformes\",\"family\":\"Trochilidae\",\"genus\":\"Chaetocercus\",\"species\":\"Chaetocercus bombus\",\"genericName\":\"Chaetocercus\",\"specificEpithet\":\"bombus\",\"taxonRank\":\"SPECIES\",\"taxonomicStatus\":\"ACCEPTED\",\"iucnRedListCategory\":\"NT\",\"decimalLatitude\":-3.832273,\"decimalLongitude\":-78.775314,\"continent\":\"SOUTH_AMERICA\",\"stateProvince\":\"Zamora-Chinchipe\",\"gadm\":{\"level0\":{\"gid\":\"ECU\",\"name\":\"Ecuador\"},\"level1\":{\"gid\":\"ECU.24_1\",\"name\":\"Zamora Chinchipe\"},\"level2\":{\"gid\":\"ECU.24.8_1\",\"name\":\"Yantzaza\"},\"level3\":{\"gid\":\"ECU.24.8.3_1\",\"name\":\"Yantzaza (Yanzatza)\"}},\"year\":2022,\"month\":1,\"day\":22,\"eventDate\":\"2022-01-22\",\"startDayOfYear\":22,\"endDayOfYear\":22,\"issues\":[\"COORDINATE_ROUNDED\",\"CONTINENT_DERIVED_FROM_COORDINATES\",\"TAXON_MATCH_TAXON_CONCEPT_ID_IGNORED\"],\"lastInterpreted\":\"2025-02-05T05:19:01.558+00:00\",\"license\":\"http://creativecommons.org/licenses/by/4.0/legalcode\",\"isSequenced\":false,\"identifiers\":[{\"identifier\":\"OBS1324384455\"}],\"media\":[],\"facts\":[],\"relations\":[],\"isInCluster\":false,\"recordedBy\":\"obsr1349249\",\"geodeticDatum\":\"WGS84\",\"class\":\"Aves\",\"countryCode\":\"EC\",\"recordedByIDs\":[],\"identifiedByIDs\":[],\"gbifRegion\":\"LATIN_AMERICA\",\"country\":\"Ecuador\",\"publishedByGbifRegion\":\"LATIN_AMERICA\",\"identifier\":\"OBS1324384455\",\"catalogNumber\":\"OBS1324384455\",\"vernacularName\":\"Little Woodstar\",\"institutionCode\":\"CLO\",\"taxonConceptID\":\"avibase-E15587CB\",\"locality\":\"Mi Paradise\",\"collectionCode\":\"EBIRD\",\"gbifID\":\"4316819423\",\"occurrenceID\":\"URN:catalog:CLO:EBIRD:OBS1324384455\"},{\"key\":2711448435,\"datasetKey\":\"4fa7b334-ce0d-4e88-aaae-2e0c138d049e\",\"publishingOrgKey\":\"e2e717bf-551a-4917-bdc9-4fa0f342c530\",\"installationKey\":\"7182d304-b0a2-404b-baba-2086a325c221\",\"hostingOrganizationKey\":\"e2e717bf-551a-4917-bdc9-4fa0f342c530\",\"publishingCountry\":\"EC\",\"protocol\":\"DWC_ARCHIVE\",\"lastCrawled\":\"2024-09-27T13:35:39.907+00:00\",\"lastParsed\":\"2025-02-05T01:39:22.173+00:00\",\"crawlId\":20,\"extensions\":{},\"basisOfRecord\":\"HUMAN_OBSERVATION\",\"individualCount\":2,\"occurrenceStatus\":\"PRESENT\",\"taxonKey\":5228583,\"kingdomKey\":1,\"phylumKey\":44,\"classKey\":212,\"orderKey\":1448,\"familyKey\":5289,\"genusKey\":2476913,\"speciesKey\":5228583,\"acceptedTaxonKey\":5228583,\"scientificName\":\"Chaetocercus bombus Gould, 1871\",\"acceptedScientificName\":\"Chaetocercus bombus Gould, 1871\",\"kingdom\":\"Animalia\",\"phylum\":\"Chordata\",\"order\":\"Apodiformes\",\"family\":\"Trochilidae\",\"genus\":\"Chaetocercus\",\"species\":\"Chaetocercus bombus\",\"genericName\":\"Chaetocercus\",\"specificEpithet\":\"bombus\",\"taxonRank\":\"SPECIES\",\"taxonomicStatus\":\"ACCEPTED\",\"iucnRedListCategory\":\"NT\",\"decimalLatitude\":-2.212783,\"decimalLongitude\":-79.05139,\"continent\":\"SOUTH_AMERICA\",\"stateProvince\":\"Chimborazo\",\"gadm\":{\"level0\":{\"gid\":\"ECU\",\"name\":\"Ecuador\"},\"level1\":{\"gid\":\"ECU.5_1\",\"name\":\"Chimborazo\"},\"level2\":{\"gid\":\"ECU.5.5_1\",\"name\":\"Cumanda\"},\"level3\":{\"gid\":\"ECU.5.5.1_1\",\"name\":\"Cumanda\"}},\"year\":2019,\"month\":12,\"day\":28,\"eventDate\":\"2019-12-28\",\"startDayOfYear\":362,\"endDayOfYear\":362,\"issues\":[\"COORDINATE_ROUNDED\",\"CONTINENT_DERIVED_FROM_COORDINATES\",\"TAXON_MATCH_TAXON_CONCEPT_ID_IGNORED\"],\"lastInterpreted\":\"2025-02-05T01:39:22.173+00:00\",\"license\":\"http://creativecommons.org/licenses/by/4.0/legalcode\",\"isSequenced\":false,\"identifiers\":[{\"identifier\":\"OBS843640347\"}],\"media\":[],\"facts\":[],\"relations\":[],\"isInCluster\":false,\"recordedBy\":\"obsr354841\",\"geodeticDatum\":\"WGS84\",\"class\":\"Aves\",\"countryCode\":\"EC\",\"recordedByIDs\":[],\"identifiedByIDs\":[],\"gbifRegion\":\"LATIN_AMERICA\",\"country\":\"Ecuador\",\"publishedByGbifRegion\":\"LATIN_AMERICA\",\"identifier\":\"OBS843640347\",\"catalogNumber\":\"OBS843640347\",\"vernacularName\":\"Little Woodstar\",\"institutionCode\":\"CLO\",\"taxonConceptID\":\"avibase-E15587CB\",\"locality\":\"Ruta Guayllanag-Suncamal\",\"collectionCode\":\"EBIRD\",\"gbifID\":\"2711448435\",\"occurrenceID\":\"URN:catalog:CLO:EBIRD:OBS843640347\"},{\"key\":1184766594,\"datasetKey\":\"4fa7b334-ce0d-4e88-aaae-2e0c138d049e\",\"publishingOrgKey\":\"e2e717bf-551a-4917-bdc9-4fa0f342c530\",\"installationKey\":\"7182d304-b0a2-404b-baba-2086a325c221\",\"hostingOrganizationKey\":\"e2e717bf-551a-4917-bdc9-4fa0f342c530\",\"publishingCountry\":\"PE\",\"protocol\":\"DWC_ARCHIVE\",\"lastCrawled\":\"2024-09-27T13:35:39.907+00:00\",\"lastParsed\":\"2025-02-05T00:36:32.479+00:00\",\"crawlId\":20,\"extensions\":{},\"basisOfRecord\":\"HUMAN_OBSERVATION\",\"individualCount\":1,\"occurrenceStatus\":\"PRESENT\",\"taxonKey\":5228583,\"kingdomKey\":1,\"phylumKey\":44,\"classKey\":212,\"orderKey\":1448,\"familyKey\":5289,\"genusKey\":2476913,\"speciesKey\":5228583,\"acceptedTaxonKey\":5228583,\"scientificName\":\"Chaetocercus bombus Gould, 1871\",\"acceptedScientificName\":\"Chaetocercus bombus Gould, 1871\",\"kingdom\":\"Animalia\",\"phylum\":\"Chordata\",\"order\":\"Apodiformes\",\"family\":\"Trochilidae\",\"genus\":\"Chaetocercus\",\"species\":\"Chaetocercus bombus\",\"genericName\":\"Chaetocercus\",\"specificEpithet\":\"bombus\",\"taxonRank\":\"SPECIES\",\"taxonomicStatus\":\"ACCEPTED\",\"iucnRedListCategory\":\"NT\",\"decimalLatitude\":-5.857659,\"decimalLongitude\":-77.984726,\"continent\":\"SOUTH_AMERICA\",\"stateProvince\":\"Amazonas\",\"gadm\":{\"level0\":{\"gid\":\"PER\",\"name\":\"Peru\"},\"level1\":{\"gid\":\"PER.1_1\",\"name\":\"Amazonas\"},\"level2\":{\"gid\":\"PER.1.2_1\",\"name\":\"Bongará\"},\"level3\":{\"gid\":\"PER.1.2.5_1\",\"name\":\"Florida\"}},\"year\":2011,\"month\":8,\"day\":14,\"eventDate\":\"2011-08-14\",\"startDayOfYear\":226,\"endDayOfYear\":226,\"issues\":[\"CONTINENT_DERIVED_FROM_COORDINATES\",\"TAXON_MATCH_TAXON_CONCEPT_ID_IGNORED\"],\"lastInterpreted\":\"2025-02-05T00:36:32.479+00:00\",\"license\":\"http://creativecommons.org/licenses/by/4.0/legalcode\",\"isSequenced\":false,\"identifiers\":[{\"identifier\":\"OBS268706096\"}],\"media\":[],\"facts\":[],\"relations\":[],\"isInCluster\":false,\"recordedBy\":\"obsr18062\",\"geodeticDatum\":\"WGS84\",\"class\":\"Aves\",\"countryCode\":\"PE\",\"recordedByIDs\":[],\"identifiedByIDs\":[],\"gbifRegion\":\"LATIN_AMERICA\",\"country\":\"Peru\",\"publishedByGbifRegion\":\"LATIN_AMERICA\",\"identifier\":\"OBS268706096\",\"catalogNumber\":\"OBS268706096\",\"vernacularName\":\"Little Woodstar\",\"institutionCode\":\"CLO\",\"taxonConceptID\":\"avibase-E15587CB\",\"locality\":\"Reserva Huembo\",\"collectionCode\":\"EBIRD\",\"gbifID\":\"1184766594\",\"occurrenceID\":\"URN:catalog:CLO:EBIRD:OBS268706096\"},{\"key\":970230265,\"datasetKey\":\"4fa7b334-ce0d-4e88-aaae-2e0c138d049e\",\"publishingOrgKey\":\"e2e717bf-551a-4917-bdc9-4fa0f342c530\",\"installationKey\":\"7182d304-b0a2-404b-baba-2086a325c221\",\"hostingOrganizationKey\":\"e2e717bf-551a-4917-bdc9-4fa0f342c530\",\"publishingCountry\":\"PE\",\"protocol\":\"DWC_ARCHIVE\",\"lastCrawled\":\"2024-09-27T13:35:39.907+00:00\",\"lastParsed\":\"2025-02-05T03:49:24.928+00:00\",\"crawlId\":20,\"extensions\":{},\"basisOfRecord\":\"HUMAN_OBSERVATION\",\"occurrenceStatus\":\"PRESENT\",\"taxonKey\":5228583,\"kingdomKey\":1,\"phylumKey\":44,\"classKey\":212,\"orderKey\":1448,\"familyKey\":5289,\"genusKey\":2476913,\"speciesKey\":5228583,\"acceptedTaxonKey\":5228583,\"scientificName\":\"Chaetocercus bombus Gould, 1871\",\"acceptedScientificName\":\"Chaetocercus bombus Gould, 1871\",\"kingdom\":\"Animalia\",\"phylum\":\"Chordata\",\"order\":\"Apodiformes\",\"family\":\"Trochilidae\",\"genus\":\"Chaetocercus\",\"species\":\"Chaetocercus bombus\",\"genericName\":\"Chaetocercus\",\"specificEpithet\":\"bombus\",\"taxonRank\":\"SPECIES\",\"taxonomicStatus\":\"ACCEPTED\",\"iucnRedListCategory\":\"NT\",\"decimalLatitude\":-6.723478,\"decimalLongitude\":-77.79814,\"continent\":\"SOUTH_AMERICA\",\"stateProvince\":\"Amazonas\",\"gadm\":{\"level0\":{\"gid\":\"PER\",\"name\":\"Peru\"},\"level1\":{\"gid\":\"PER.1_1\",\"name\":\"Amazonas\"},\"level2\":{\"gid\":\"PER.1.3_1\",\"name\":\"Chachapoyas\"},\"level3\":{\"gid\":\"PER.1.3.10_1\",\"name\":\"Leimebamba\"}},\"year\":2013,\"month\":6,\"day\":16,\"eventDate\":\"2013-06-16\",\"startDayOfYear\":167,\"endDayOfYear\":167,\"issues\":[\"COORDINATE_ROUNDED\",\"CONTINENT_DERIVED_FROM_COORDINATES\",\"TAXON_MATCH_TAXON_CONCEPT_ID_IGNORED\"],\"lastInterpreted\":\"2025-02-05T03:49:24.928+00:00\",\"license\":\"http://creativecommons.org/licenses/by/4.0/legalcode\",\"isSequenced\":false,\"identifiers\":[{\"identifier\":\"OBS215885372\"}],\"media\":[],\"facts\":[],\"relations\":[],\"isInCluster\":false,\"recordedBy\":\"obsr341468\",\"geodeticDatum\":\"WGS84\",\"class\":\"Aves\",\"countryCode\":\"PE\",\"recordedByIDs\":[],\"identifiedByIDs\":[],\"gbifRegion\":\"LATIN_AMERICA\",\"country\":\"Peru\",\"publishedByGbifRegion\":\"LATIN_AMERICA\",\"identifier\":\"OBS215885372\",\"catalogNumber\":\"OBS215885372\",\"vernacularName\":\"Little Woodstar\",\"institutionCode\":\"CLO\",\"taxonConceptID\":\"avibase-E15587CB\",\"locality\":\"Museo Leimebamba y Kentikafe\",\"collectionCode\":\"EBIRD\",\"gbifID\":\"970230265\",\"occurrenceID\":\"URN:catalog:CLO:EBIRD:OBS215885372\"},{\"key\":4382229371,\"datasetKey\":\"4fa7b334-ce0d-4e88-aaae-2e0c138d049e\",\"publishingOrgKey\":\"e2e717bf-551a-4917-bdc9-4fa0f342c530\",\"installationKey\":\"7182d304-b0a2-404b-baba-2086a325c221\",\"hostingOrganizationKey\":\"e2e717bf-551a-4917-bdc9-4fa0f342c530\",\"publishingCountry\":\"PE\",\"protocol\":\"DWC_ARCHIVE\",\"lastCrawled\":\"2024-09-27T13:35:39.907+00:00\",\"lastParsed\":\"2025-02-05T02:55:57.523+00:00\",\"crawlId\":20,\"extensions\":{},\"basisOfRecord\":\"HUMAN_OBSERVATION\",\"individualCount\":1,\"occurrenceStatus\":\"PRESENT\",\"taxonKey\":5228583,\"kingdomKey\":1,\"phylumKey\":44,\"classKey\":212,\"orderKey\":1448,\"familyKey\":5289,\"genusKey\":2476913,\"speciesKey\":5228583,\"acceptedTaxonKey\":5228583,\"scientificName\":\"Chaetocercus bombus Gould, 1871\",\"acceptedScientificName\":\"Chaetocercus bombus Gould, 1871\",\"kingdom\":\"Animalia\",\"phylum\":\"Chordata\",\"order\":\"Apodiformes\",\"family\":\"Trochilidae\",\"genus\":\"Chaetocercus\",\"species\":\"Chaetocercus bombus\",\"genericName\":\"Chaetocercus\",\"specificEpithet\":\"bombus\",\"taxonRank\":\"SPECIES\",\"taxonomicStatus\":\"ACCEPTED\",\"iucnRedListCategory\":\"NT\",\"decimalLatitude\":-6.406962,\"decimalLongitude\":-77.87754,\"continent\":\"SOUTH_AMERICA\",\"stateProvince\":\"Amazonas\",\"gadm\":{\"level0\":{\"gid\":\"PER\",\"name\":\"Peru\"},\"level1\":{\"gid\":\"PER.1_1\",\"name\":\"Amazonas\"},\"level2\":{\"gid\":\"PER.1.3_1\",\"name\":\"Chachapoyas\"},\"level3\":{\"gid\":\"PER.1.3.12_1\",\"name\":\"Magdalena\"}},\"year\":2022,\"month\":10,\"day\":27,\"eventDate\":\"2022-10-27\",\"startDayOfYear\":300,\"endDayOfYear\":300,\"issues\":[\"COORDINATE_ROUNDED\",\"CONTINENT_DERIVED_FROM_COORDINATES\",\"TAXON_MATCH_TAXON_CONCEPT_ID_IGNORED\"],\"lastInterpreted\":\"2025-02-05T02:55:57.523+00:00\",\"license\":\"http://creativecommons.org/licenses/by/4.0/legalcode\",\"isSequenced\":false,\"identifiers\":[{\"identifier\":\"OBS1556872564\"}],\"media\":[],\"facts\":[],\"relations\":[],\"isInCluster\":false,\"recordedBy\":\"obsr3244514\",\"geodeticDatum\":\"WGS84\",\"class\":\"Aves\",\"countryCode\":\"PE\",\"recordedByIDs\":[],\"identifiedByIDs\":[],\"gbifRegion\":\"LATIN_AMERICA\",\"country\":\"Peru\",\"publishedByGbifRegion\":\"LATIN_AMERICA\",\"identifier\":\"OBS1556872564\",\"catalogNumber\":\"OBS1556872564\",\"vernacularName\":\"Little Woodstar\",\"institutionCode\":\"CLO\",\"taxonConceptID\":\"avibase-E15587CB\",\"locality\":\"El Chillo Lodge\",\"collectionCode\":\"EBIRD\",\"gbifID\":\"4382229371\",\"occurrenceID\":\"URN:catalog:CLO:EBIRD:OBS1556872564\"},{\"key\":2113887895,\"datasetKey\":\"4fa7b334-ce0d-4e88-aaae-2e0c138d049e\",\"publishingOrgKey\":\"e2e717bf-551a-4917-bdc9-4fa0f342c530\",\"installationKey\":\"7182d304-b0a2-404b-baba-2086a325c221\",\"hostingOrganizationKey\":\"e2e717bf-551a-4917-bdc9-4fa0f342c530\",\"publishingCountry\":\"PE\",\"protocol\":\"DWC_ARCHIVE\",\"lastCrawled\":\"2024-09-27T13:35:39.907+00:00\",\"lastParsed\":\"2025-02-05T01:06:36.923+00:00\",\"crawlId\":20,\"extensions\":{},\"basisOfRecord\":\"HUMAN_OBSERVATION\",\"individualCount\":1,\"occurrenceStatus\":\"PRESENT\",\"taxonKey\":5228583,\"kingdomKey\":1,\"phylumKey\":44,\"classKey\":212,\"orderKey\":1448,\"familyKey\":5289,\"genusKey\":2476913,\"speciesKey\":5228583,\"acceptedTaxonKey\":5228583,\"scientificName\":\"Chaetocercus bombus Gould, 1871\",\"acceptedScientificName\":\"Chaetocercus bombus Gould, 1871\",\"kingdom\":\"Animalia\",\"phylum\":\"Chordata\",\"order\":\"Apodiformes\",\"family\":\"Trochilidae\",\"genus\":\"Chaetocercus\",\"species\":\"Chaetocercus bombus\",\"genericName\":\"Chaetocercus\",\"specificEpithet\":\"bombus\",\"taxonRank\":\"SPECIES\",\"taxonomicStatus\":\"ACCEPTED\",\"iucnRedListCategory\":\"NT\",\"decimalLatitude\":-5.857659,\"decimalLongitude\":-77.984726,\"continent\":\"SOUTH_AMERICA\",\"stateProvince\":\"Amazonas\",\"gadm\":{\"level0\":{\"gid\":\"PER\",\"name\":\"Peru\"},\"level1\":{\"gid\":\"PER.1_1\",\"name\":\"Amazonas\"},\"level2\":{\"gid\":\"PER.1.2_1\",\"name\":\"Bongará\"},\"level3\":{\"gid\":\"PER.1.2.5_1\",\"name\":\"Florida\"}},\"year\":2017,\"month\":11,\"day\":15,\"eventDate\":\"2017-11-15\",\"startDayOfYear\":319,\"endDayOfYear\":319,\"issues\":[\"CONTINENT_DERIVED_FROM_COORDINATES\",\"TAXON_MATCH_TAXON_CONCEPT_ID_IGNORED\"],\"lastInterpreted\":\"2025-02-05T01:06:36.923+00:00\",\"license\":\"http://creativecommons.org/licenses/by/4.0/legalcode\",\"isSequenced\":false,\"identifiers\":[{\"identifier\":\"OBS560085103\"}],\"media\":[],\"facts\":[],\"relations\":[],\"isInCluster\":false,\"recordedBy\":\"obsr394935\",\"geodeticDatum\":\"WGS84\",\"class\":\"Aves\",\"countryCode\":\"PE\",\"recordedByIDs\":[],\"identifiedByIDs\":[],\"gbifRegion\":\"LATIN_AMERICA\",\"country\":\"Peru\",\"publishedByGbifRegion\":\"LATIN_AMERICA\",\"identifier\":\"OBS560085103\",\"catalogNumber\":\"OBS560085103\",\"vernacularName\":\"Little Woodstar\",\"institutionCode\":\"CLO\",\"taxonConceptID\":\"avibase-E15587CB\",\"locality\":\"Reserva Huembo\",\"collectionCode\":\"EBIRD\",\"gbifID\":\"2113887895\",\"occurrenceID\":\"URN:catalog:CLO:EBIRD:OBS560085103\"},{\"key\":2125877493,\"datasetKey\":\"4fa7b334-ce0d-4e88-aaae-2e0c138d049e\",\"publishingOrgKey\":\"e2e717bf-551a-4917-bdc9-4fa0f342c530\",\"installationKey\":\"7182d304-b0a2-404b-baba-2086a325c221\",\"hostingOrganizationKey\":\"e2e717bf-551a-4917-bdc9-4fa0f342c530\",\"publishingCountry\":\"PE\",\"protocol\":\"DWC_ARCHIVE\",\"lastCrawled\":\"2024-09-27T13:35:39.907+00:00\",\"lastParsed\":\"2025-02-05T04:17:19.592+00:00\",\"crawlId\":20,\"extensions\":{},\"basisOfRecord\":\"HUMAN_OBSERVATION\",\"individualCount\":2,\"occurrenceStatus\":\"PRESENT\",\"taxonKey\":5228583,\"kingdomKey\":1,\"phylumKey\":44,\"classKey\":212,\"orderKey\":1448,\"familyKey\":5289,\"genusKey\":2476913,\"speciesKey\":5228583,\"acceptedTaxonKey\":5228583,\"scientificName\":\"Chaetocercus bombus Gould, 1871\",\"acceptedScientificName\":\"Chaetocercus bombus Gould, 1871\",\"kingdom\":\"Animalia\",\"phylum\":\"Chordata\",\"order\":\"Apodiformes\",\"family\":\"Trochilidae\",\"genus\":\"Chaetocercus\",\"species\":\"Chaetocercus bombus\",\"genericName\":\"Chaetocercus\",\"specificEpithet\":\"bombus\",\"taxonRank\":\"SPECIES\",\"taxonomicStatus\":\"ACCEPTED\",\"iucnRedListCategory\":\"NT\",\"decimalLatitude\":-5.857659,\"decimalLongitude\":-77.984726,\"continent\":\"SOUTH_AMERICA\",\"stateProvince\":\"Amazonas\",\"gadm\":{\"level0\":{\"gid\":\"PER\",\"name\":\"Peru\"},\"level1\":{\"gid\":\"PER.1_1\",\"name\":\"Amazonas\"},\"level2\":{\"gid\":\"PER.1.2_1\",\"name\":\"Bongará\"},\"level3\":{\"gid\":\"PER.1.2.5_1\",\"name\":\"Florida\"}},\"year\":2018,\"month\":2,\"day\":1,\"eventDate\":\"2018-02-01\",\"startDayOfYear\":32,\"endDayOfYear\":32,\"issues\":[\"CONTINENT_DERIVED_FROM_COORDINATES\",\"TAXON_MATCH_TAXON_CONCEPT_ID_IGNORED\"],\"lastInterpreted\":\"2025-02-05T04:17:19.592+00:00\",\"license\":\"http://creativecommons.org/licenses/by/4.0/legalcode\",\"isSequenced\":false,\"identifiers\":[{\"identifier\":\"OBS576171456\"}],\"media\":[],\"facts\":[],\"relations\":[],\"isInCluster\":false,\"recordedBy\":\"obsr216211\",\"geodeticDatum\":\"WGS84\",\"class\":\"Aves\",\"countryCode\":\"PE\",\"recordedByIDs\":[],\"identifiedByIDs\":[],\"gbifRegion\":\"LATIN_AMERICA\",\"country\":\"Peru\",\"publishedByGbifRegion\":\"LATIN_AMERICA\",\"identifier\":\"OBS576171456\",\"catalogNumber\":\"OBS576171456\",\"vernacularName\":\"Little Woodstar\",\"institutionCode\":\"CLO\",\"taxonConceptID\":\"avibase-E15587CB\",\"locality\":\"Reserva Huembo\",\"collectionCode\":\"EBIRD\",\"gbifID\":\"2125877493\",\"occurrenceID\":\"URN:catalog:CLO:EBIRD:OBS576171456\"},{\"key\":2798494193,\"datasetKey\":\"4fa7b334-ce0d-4e88-aaae-2e0c138d049e\",\"publishingOrgKey\":\"e2e717bf-551a-4917-bdc9-4fa0f342c530\",\"installationKey\":\"7182d304-b0a2-404b-baba-2086a325c221\",\"hostingOrganizationKey\":\"e2e717bf-551a-4917-bdc9-4fa0f342c530\",\"publishingCountry\":\"EC\",\"protocol\":\"DWC_ARCHIVE\",\"lastCrawled\":\"2024-09-27T13:35:39.907+00:00\",\"lastParsed\":\"2025-02-05T01:37:10.684+00:00\",\"crawlId\":20,\"extensions\":{},\"basisOfRecord\":\"HUMAN_OBSERVATION\",\"individualCount\":1,\"occurrenceStatus\":\"PRESENT\",\"taxonKey\":5228583,\"kingdomKey\":1,\"phylumKey\":44,\"classKey\":212,\"orderKey\":1448,\"familyKey\":5289,\"genusKey\":2476913,\"speciesKey\":5228583,\"acceptedTaxonKey\":5228583,\"scientificName\":\"Chaetocercus bombus Gould, 1871\",\"acceptedScientificName\":\"Chaetocercus bombus Gould, 1871\",\"kingdom\":\"Animalia\",\"phylum\":\"Chordata\",\"order\":\"Apodiformes\",\"family\":\"Trochilidae\",\"genus\":\"Chaetocercus\",\"species\":\"Chaetocercus bombus\",\"genericName\":\"Chaetocercus\",\"specificEpithet\":\"bombus\",\"taxonRank\":\"SPECIES\",\"taxonomicStatus\":\"ACCEPTED\",\"iucnRedListCategory\":\"NT\",\"decimalLatitude\":-4.090851,\"decimalLongitude\":-78.95827,\"continent\":\"SOUTH_AMERICA\",\"stateProvince\":\"Zamora-Chinchipe\",\"gadm\":{\"level0\":{\"gid\":\"ECU\",\"name\":\"Ecuador\"},\"level1\":{\"gid\":\"ECU.24_1\",\"name\":\"Zamora Chinchipe\"},\"level2\":{\"gid\":\"ECU.24.9_1\",\"name\":\"Zamora\"},\"level3\":{\"gid\":\"ECU.24.9.7_1\",\"name\":\"Zamora\"}},\"year\":2019,\"month\":11,\"day\":10,\"eventDate\":\"2019-11-10\",\"startDayOfYear\":314,\"endDayOfYear\":314,\"issues\":[\"COORDINATE_ROUNDED\",\"CONTINENT_DERIVED_FROM_COORDINATES\",\"TAXON_MATCH_TAXON_CONCEPT_ID_IGNORED\"],\"lastInterpreted\":\"2025-02-05T01:37:10.684+00:00\",\"license\":\"http://creativecommons.org/licenses/by/4.0/legalcode\",\"isSequenced\":false,\"identifiers\":[{\"identifier\":\"OBS826429270\"}],\"media\":[],\"facts\":[],\"relations\":[],\"isInCluster\":false,\"recordedBy\":\"obsr349777\",\"geodeticDatum\":\"WGS84\",\"class\":\"Aves\",\"countryCode\":\"EC\",\"recordedByIDs\":[],\"identifiedByIDs\":[],\"gbifRegion\":\"LATIN_AMERICA\",\"country\":\"Ecuador\",\"publishedByGbifRegion\":\"LATIN_AMERICA\",\"identifier\":\"OBS826429270\",\"catalogNumber\":\"OBS826429270\",\"vernacularName\":\"Little Woodstar\",\"institutionCode\":\"CLO\",\"taxonConceptID\":\"avibase-E15587CB\",\"locality\":\"Copalinga Lodge\",\"collectionCode\":\"EBIRD\",\"gbifID\":\"2798494193\",\"occurrenceID\":\"URN:catalog:CLO:EBIRD:OBS826429270\"},{\"key\":3650301336,\"datasetKey\":\"4fa7b334-ce0d-4e88-aaae-2e0c138d049e\",\"publishingOrgKey\":\"e2e717bf-551a-4917-bdc9-4fa0f342c530\",\"installationKey\":\"7182d304-b0a2-404b-baba-2086a325c221\",\"hostingOrganizationKey\":\"e2e717bf-551a-4917-bdc9-4fa0f342c530\",\"publishingCountry\":\"PE\",\"protocol\":\"DWC_ARCHIVE\",\"lastCrawled\":\"2024-09-27T13:35:39.907+00:00\",\"lastParsed\":\"2025-02-05T05:13:22.213+00:00\",\"crawlId\":20,\"extensions\":{},\"basisOfRecord\":\"HUMAN_OBSERVATION\",\"individualCount\":1,\"occurrenceStatus\":\"PRESENT\",\"taxonKey\":5228583,\"kingdomKey\":1,\"phylumKey\":44,\"classKey\":212,\"orderKey\":1448,\"familyKey\":5289,\"genusKey\":2476913,\"speciesKey\":5228583,\"acceptedTaxonKey\":5228583,\"scientificName\":\"Chaetocercus bombus Gould, 1871\",\"acceptedScientificName\":\"Chaetocercus bombus Gould, 1871\",\"kingdom\":\"Animalia\",\"phylum\":\"Chordata\",\"order\":\"Apodiformes\",\"family\":\"Trochilidae\",\"genus\":\"Chaetocercus\",\"species\":\"Chaetocercus bombus\",\"genericName\":\"Chaetocercus\",\"specificEpithet\":\"bombus\",\"taxonRank\":\"SPECIES\",\"taxonomicStatus\":\"ACCEPTED\",\"iucnRedListCategory\":\"NT\",\"decimalLatitude\":-6.075386,\"decimalLongitude\":-76.97628,\"continent\":\"SOUTH_AMERICA\",\"stateProvince\":\"San Martín\",\"gadm\":{\"level0\":{\"gid\":\"PER\",\"name\":\"Peru\"},\"level1\":{\"gid\":\"PER.23_1\",\"name\":\"San Martín\"},\"level2\":{\"gid\":\"PER.23.6_1\",\"name\":\"Moyobamba\"},\"level3\":{\"gid\":\"PER.23.6.4_1\",\"name\":\"Moyobamba\"}},\"year\":2021,\"month\":9,\"day\":27,\"eventDate\":\"2021-09-27\",\"startDayOfYear\":270,\"endDayOfYear\":270,\"issues\":[\"COORDINATE_ROUNDED\",\"CONTINENT_DERIVED_FROM_COORDINATES\",\"TAXON_MATCH_TAXON_CONCEPT_ID_IGNORED\"],\"lastInterpreted\":\"2025-02-05T05:13:22.213+00:00\",\"license\":\"http://creativecommons.org/licenses/by/4.0/legalcode\",\"isSequenced\":false,\"identifiers\":[{\"identifier\":\"OBS1246361198\"}],\"media\":[],\"facts\":[],\"relations\":[],\"isInCluster\":false,\"recordedBy\":\"obsr959094\",\"geodeticDatum\":\"WGS84\",\"class\":\"Aves\",\"countryCode\":\"PE\",\"recordedByIDs\":[],\"identifiedByIDs\":[],\"gbifRegion\":\"LATIN_AMERICA\",\"country\":\"Peru\",\"publishedByGbifRegion\":\"LATIN_AMERICA\",\"identifier\":\"OBS1246361198\",\"catalogNumber\":\"OBS1246361198\",\"vernacularName\":\"Little Woodstar\",\"institutionCode\":\"CLO\",\"taxonConceptID\":\"avibase-E15587CB\",\"locality\":\"Waqanki/Quebrada Mishquiyaquillo\",\"collectionCode\":\"EBIRD\",\"gbifID\":\"3650301336\",\"occurrenceID\":\"URN:catalog:CLO:EBIRD:OBS1246361198\"},{\"key\":4673535865,\"datasetKey\":\"4fa7b334-ce0d-4e88-aaae-2e0c138d049e\",\"publishingOrgKey\":\"e2e717bf-551a-4917-bdc9-4fa0f342c530\",\"installationKey\":\"7182d304-b0a2-404b-baba-2086a325c221\",\"hostingOrganizationKey\":\"e2e717bf-551a-4917-bdc9-4fa0f342c530\",\"publishingCountry\":\"PE\",\"protocol\":\"DWC_ARCHIVE\",\"lastCrawled\":\"2024-09-27T13:35:39.907+00:00\",\"lastParsed\":\"2025-02-05T06:02:33.234+00:00\",\"crawlId\":20,\"extensions\":{},\"basisOfRecord\":\"HUMAN_OBSERVATION\",\"individualCount\":1,\"occurrenceStatus\":\"PRESENT\",\"taxonKey\":5228583,\"kingdomKey\":1,\"phylumKey\":44,\"classKey\":212,\"orderKey\":1448,\"familyKey\":5289,\"genusKey\":2476913,\"speciesKey\":5228583,\"acceptedTaxonKey\":5228583,\"scientificName\":\"Chaetocercus bombus Gould, 1871\",\"acceptedScientificName\":\"Chaetocercus bombus Gould, 1871\",\"kingdom\":\"Animalia\",\"phylum\":\"Chordata\",\"order\":\"Apodiformes\",\"family\":\"Trochilidae\",\"genus\":\"Chaetocercus\",\"species\":\"Chaetocercus bombus\",\"genericName\":\"Chaetocercus\",\"specificEpithet\":\"bombus\",\"taxonRank\":\"SPECIES\",\"taxonomicStatus\":\"ACCEPTED\",\"iucnRedListCategory\":\"NT\",\"decimalLatitude\":-5.857659,\"decimalLongitude\":-77.984726,\"continent\":\"SOUTH_AMERICA\",\"stateProvince\":\"Amazonas\",\"gadm\":{\"level0\":{\"gid\":\"PER\",\"name\":\"Peru\"},\"level1\":{\"gid\":\"PER.1_1\",\"name\":\"Amazonas\"},\"level2\":{\"gid\":\"PER.1.2_1\",\"name\":\"Bongará\"},\"level3\":{\"gid\":\"PER.1.2.5_1\",\"name\":\"Florida\"}},\"year\":2022,\"month\":7,\"day\":18,\"eventDate\":\"2022-07-18\",\"startDayOfYear\":199,\"endDayOfYear\":199,\"issues\":[\"CONTINENT_DERIVED_FROM_COORDINATES\",\"TAXON_MATCH_TAXON_CONCEPT_ID_IGNORED\"],\"lastInterpreted\":\"2025-02-05T06:02:33.234+00:00\",\"license\":\"http://creativecommons.org/licenses/by/4.0/legalcode\",\"isSequenced\":false,\"identifiers\":[{\"identifier\":\"OBS1886823155\"}],\"media\":[],\"facts\":[],\"relations\":[],\"isInCluster\":false,\"recordedBy\":\"obsr4577360\",\"geodeticDatum\":\"WGS84\",\"class\":\"Aves\",\"countryCode\":\"PE\",\"recordedByIDs\":[],\"identifiedByIDs\":[],\"gbifRegion\":\"LATIN_AMERICA\",\"country\":\"Peru\",\"publishedByGbifRegion\":\"LATIN_AMERICA\",\"identifier\":\"OBS1886823155\",\"catalogNumber\":\"OBS1886823155\",\"vernacularName\":\"Little Woodstar\",\"institutionCode\":\"CLO\",\"taxonConceptID\":\"avibase-E15587CB\",\"locality\":\"Reserva Huembo\",\"collectionCode\":\"EBIRD\",\"gbifID\":\"4673535865\",\"occurrenceID\":\"URN:catalog:CLO:EBIRD:OBS1886823155\"},{\"key\":1166807019,\"datasetKey\":\"4fa7b334-ce0d-4e88-aaae-2e0c138d049e\",\"publishingOrgKey\":\"e2e717bf-551a-4917-bdc9-4fa0f342c530\",\"installationKey\":\"7182d304-b0a2-404b-baba-2086a325c221\",\"hostingOrganizationKey\":\"e2e717bf-551a-4917-bdc9-4fa0f342c530\",\"publishingCountry\":\"PE\",\"protocol\":\"DWC_ARCHIVE\",\"lastCrawled\":\"2024-09-27T13:35:39.907+00:00\",\"lastParsed\":\"2025-02-05T03:51:32.673+00:00\",\"crawlId\":20,\"extensions\":{},\"basisOfRecord\":\"HUMAN_OBSERVATION\",\"individualCount\":1,\"occurrenceStatus\":\"PRESENT\",\"taxonKey\":5228583,\"kingdomKey\":1,\"phylumKey\":44,\"classKey\":212,\"orderKey\":1448,\"familyKey\":5289,\"genusKey\":2476913,\"speciesKey\":5228583,\"acceptedTaxonKey\":5228583,\"scientificName\":\"Chaetocercus bombus Gould, 1871\",\"acceptedScientificName\":\"Chaetocercus bombus Gould, 1871\",\"kingdom\":\"Animalia\",\"phylum\":\"Chordata\",\"order\":\"Apodiformes\",\"family\":\"Trochilidae\",\"genus\":\"Chaetocercus\",\"species\":\"Chaetocercus bombus\",\"genericName\":\"Chaetocercus\",\"specificEpithet\":\"bombus\",\"taxonRank\":\"SPECIES\",\"taxonomicStatus\":\"ACCEPTED\",\"iucnRedListCategory\":\"NT\",\"decimalLatitude\":-5.857659,\"decimalLongitude\":-77.984726,\"continent\":\"SOUTH_AMERICA\",\"stateProvince\":\"Amazonas\",\"gadm\":{\"level0\":{\"gid\":\"PER\",\"name\":\"Peru\"},\"level1\":{\"gid\":\"PER.1_1\",\"name\":\"Amazonas\"},\"level2\":{\"gid\":\"PER.1.2_1\",\"name\":\"Bongará\"},\"level3\":{\"gid\":\"PER.1.2.5_1\",\"name\":\"Florida\"}},\"year\":2014,\"month\":4,\"day\":28,\"eventDate\":\"2014-04-28\",\"startDayOfYear\":118,\"endDayOfYear\":118,\"issues\":[\"CONTINENT_DERIVED_FROM_COORDINATES\",\"TAXON_MATCH_TAXON_CONCEPT_ID_IGNORED\"],\"lastInterpreted\":\"2025-02-05T03:51:32.673+00:00\",\"license\":\"http://creativecommons.org/licenses/by/4.0/legalcode\",\"isSequenced\":false,\"identifiers\":[{\"identifier\":\"OBS248958753\"}],\"media\":[],\"facts\":[],\"relations\":[],\"isInCluster\":false,\"recordedBy\":\"obsr511239\",\"geodeticDatum\":\"WGS84\",\"class\":\"Aves\",\"countryCode\":\"PE\",\"recordedByIDs\":[],\"identifiedByIDs\":[],\"gbifRegion\":\"LATIN_AMERICA\",\"country\":\"Peru\",\"publishedByGbifRegion\":\"LATIN_AMERICA\",\"identifier\":\"OBS248958753\",\"catalogNumber\":\"OBS248958753\",\"vernacularName\":\"Little Woodstar\",\"institutionCode\":\"CLO\",\"taxonConceptID\":\"avibase-E15587CB\",\"locality\":\"Reserva Huembo\",\"collectionCode\":\"EBIRD_PE\",\"gbifID\":\"1166807019\",\"occurrenceID\":\"URN:catalog:CLO:EBIRD_PE:OBS248958753\"},{\"key\":4636630682,\"datasetKey\":\"4fa7b334-ce0d-4e88-aaae-2e0c138d049e\",\"publishingOrgKey\":\"e2e717bf-551a-4917-bdc9-4fa0f342c530\",\"installationKey\":\"7182d304-b0a2-404b-baba-2086a325c221\",\"hostingOrganizationKey\":\"e2e717bf-551a-4917-bdc9-4fa0f342c530\",\"publishingCountry\":\"PE\",\"protocol\":\"DWC_ARCHIVE\",\"lastCrawled\":\"2024-09-27T13:35:39.907+00:00\",\"lastParsed\":\"2025-02-05T05:50:05.977+00:00\",\"crawlId\":20,\"extensions\":{},\"basisOfRecord\":\"HUMAN_OBSERVATION\",\"individualCount\":1,\"occurrenceStatus\":\"PRESENT\",\"taxonKey\":5228583,\"kingdomKey\":1,\"phylumKey\":44,\"classKey\":212,\"orderKey\":1448,\"familyKey\":5289,\"genusKey\":2476913,\"speciesKey\":5228583,\"acceptedTaxonKey\":5228583,\"scientificName\":\"Chaetocercus bombus Gould, 1871\",\"acceptedScientificName\":\"Chaetocercus bombus Gould, 1871\",\"kingdom\":\"Animalia\",\"phylum\":\"Chordata\",\"order\":\"Apodiformes\",\"family\":\"Trochilidae\",\"genus\":\"Chaetocercus\",\"species\":\"Chaetocercus bombus\",\"genericName\":\"Chaetocercus\",\"specificEpithet\":\"bombus\",\"taxonRank\":\"SPECIES\",\"taxonomicStatus\":\"ACCEPTED\",\"iucnRedListCategory\":\"NT\",\"decimalLatitude\":-6.414931,\"decimalLongitude\":-77.869545,\"continent\":\"SOUTH_AMERICA\",\"stateProvince\":\"Amazonas\",\"gadm\":{\"level0\":{\"gid\":\"PER\",\"name\":\"Peru\"},\"level1\":{\"gid\":\"PER.1_1\",\"name\":\"Amazonas\"},\"level2\":{\"gid\":\"PER.1.3_1\",\"name\":\"Chachapoyas\"},\"level3\":{\"gid\":\"PER.1.3.12_1\",\"name\":\"Magdalena\"}},\"year\":2023,\"month\":5,\"day\":13,\"eventDate\":\"2023-05-13\",\"startDayOfYear\":133,\"endDayOfYear\":133,\"issues\":[\"CONTINENT_DERIVED_FROM_COORDINATES\",\"TAXON_MATCH_TAXON_CONCEPT_ID_IGNORED\"],\"lastInterpreted\":\"2025-02-05T05:50:05.977+00:00\",\"license\":\"http://creativecommons.org/licenses/by/4.0/legalcode\",\"isSequenced\":false,\"identifiers\":[{\"identifier\":\"OBS1726066536\"}],\"media\":[],\"facts\":[],\"relations\":[],\"isInCluster\":false,\"recordedBy\":\"obsr762853\",\"geodeticDatum\":\"WGS84\",\"class\":\"Aves\",\"countryCode\":\"PE\",\"recordedByIDs\":[],\"identifiedByIDs\":[],\"gbifRegion\":\"LATIN_AMERICA\",\"country\":\"Peru\",\"publishedByGbifRegion\":\"LATIN_AMERICA\",\"identifier\":\"OBS1726066536\",\"catalogNumber\":\"OBS1726066536\",\"vernacularName\":\"Little Woodstar\",\"institutionCode\":\"CLO\",\"taxonConceptID\":\"avibase-E15587CB\",\"locality\":\"Amazilia Lodge\",\"collectionCode\":\"EBIRD\",\"gbifID\":\"4636630682\",\"occurrenceID\":\"URN:catalog:CLO:EBIRD:OBS1726066536\"},{\"key\":580708434,\"datasetKey\":\"4fa7b334-ce0d-4e88-aaae-2e0c138d049e\",\"publishingOrgKey\":\"e2e717bf-551a-4917-bdc9-4fa0f342c530\",\"installationKey\":\"7182d304-b0a2-404b-baba-2086a325c221\",\"hostingOrganizationKey\":\"e2e717bf-551a-4917-bdc9-4fa0f342c530\",\"publishingCountry\":\"PE\",\"protocol\":\"DWC_ARCHIVE\",\"lastCrawled\":\"2024-09-27T13:35:39.907+00:00\",\"lastParsed\":\"2025-02-05T03:42:45.140+00:00\",\"crawlId\":20,\"extensions\":{},\"basisOfRecord\":\"HUMAN_OBSERVATION\",\"individualCount\":1,\"occurrenceStatus\":\"PRESENT\",\"taxonKey\":5228583,\"kingdomKey\":1,\"phylumKey\":44,\"classKey\":212,\"orderKey\":1448,\"familyKey\":5289,\"genusKey\":2476913,\"speciesKey\":5228583,\"acceptedTaxonKey\":5228583,\"scientificName\":\"Chaetocercus bombus Gould, 1871\",\"acceptedScientificName\":\"Chaetocercus bombus Gould, 1871\",\"kingdom\":\"Animalia\",\"phylum\":\"Chordata\",\"order\":\"Apodiformes\",\"family\":\"Trochilidae\",\"genus\":\"Chaetocercus\",\"species\":\"Chaetocercus bombus\",\"genericName\":\"Chaetocercus\",\"specificEpithet\":\"bombus\",\"taxonRank\":\"SPECIES\",\"taxonomicStatus\":\"ACCEPTED\",\"iucnRedListCategory\":\"NT\",\"decimalLatitude\":-6.872472,\"decimalLongitude\":-78.08933,\"continent\":\"SOUTH_AMERICA\",\"stateProvince\":\"Cajamarca\",\"gadm\":{\"level0\":{\"gid\":\"PER\",\"name\":\"Peru\"},\"level1\":{\"gid\":\"PER.6_1\",\"name\":\"Cajamarca\"},\"level2\":{\"gid\":\"PER.6.3_1\",\"name\":\"Celendín\"},\"level3\":{\"gid\":\"PER.6.3.12_1\",\"name\":\"Utco\"}},\"year\":2010,\"month\":8,\"day\":15,\"eventDate\":\"2010-08-15\",\"startDayOfYear\":227,\"endDayOfYear\":227,\"issues\":[\"COORDINATE_ROUNDED\",\"CONTINENT_DERIVED_FROM_COORDINATES\",\"TAXON_MATCH_TAXON_CONCEPT_ID_IGNORED\"],\"lastInterpreted\":\"2025-02-05T03:42:45.140+00:00\",\"license\":\"http://creativecommons.org/licenses/by/4.0/legalcode\",\"isSequenced\":false,\"identifiers\":[{\"identifier\":\"OBS97291361\"}],\"media\":[],\"facts\":[],\"relations\":[],\"isInCluster\":false,\"recordedBy\":\"obsr123794\",\"geodeticDatum\":\"WGS84\",\"class\":\"Aves\",\"countryCode\":\"PE\",\"recordedByIDs\":[],\"identifiedByIDs\":[],\"gbifRegion\":\"LATIN_AMERICA\",\"country\":\"Peru\",\"publishedByGbifRegion\":\"LATIN_AMERICA\",\"identifier\":\"OBS97291361\",\"catalogNumber\":\"OBS97291361\",\"vernacularName\":\"Little Woodstar\",\"institutionCode\":\"CLO\",\"taxonConceptID\":\"avibase-E15587CB\",\"locality\":\"Hacienda Limon\",\"collectionCode\":\"EBIRD\",\"gbifID\":\"580708434\",\"occurrenceID\":\"URN:catalog:CLO:EBIRD:OBS97291361\"}],\"facets\":[]}'"
      ]
     },
     "execution_count": 18,
     "metadata": {},
     "output_type": "execute_result"
    }
   ],
   "source": [
    "requests.get(urlpath).text\n",
    "#typing in by hand"
   ]
  },
  {
   "cell_type": "code",
   "execution_count": 19,
   "metadata": {},
   "outputs": [
    {
     "name": "stdout",
     "output_type": "stream",
     "text": [
      "https://api.gbif.org/v1/occurrence/search/?q=Bombus\n"
     ]
    }
   ],
   "source": [
    "#That was not very nice\n",
    "#format parameters as a dictionary\n",
    "# here we create the same urlpath using params\n",
    "response = requests.get(\n",
    "    url=\"https://api.gbif.org/v1/occurrence/search/\",\n",
    "    params={\"q\": \"Bombus\"}\n",
    ")\n",
    "\n",
    "# show url path\n",
    "print(response.url)\n"
   ]
  },
  {
   "cell_type": "code",
   "execution_count": 21,
   "metadata": {},
   "outputs": [],
   "source": [
    "res = response.json()\n",
    "sdf = pd.json_normalize(dict['results'])\n"
   ]
  },
  {
   "cell_type": "code",
   "execution_count": 22,
   "metadata": {},
   "outputs": [
    {
     "data": {
      "text/plain": [
       "{'usageKey': 1340278,\n",
       " 'scientificName': 'Bombus Latreille, 1802',\n",
       " 'canonicalName': 'Bombus',\n",
       " 'rank': 'GENUS',\n",
       " 'status': 'ACCEPTED',\n",
       " 'confidence': 94,\n",
       " 'matchType': 'EXACT',\n",
       " 'kingdom': 'Animalia',\n",
       " 'phylum': 'Arthropoda',\n",
       " 'order': 'Hymenoptera',\n",
       " 'family': 'Apidae',\n",
       " 'genus': 'Bombus',\n",
       " 'kingdomKey': 1,\n",
       " 'phylumKey': 54,\n",
       " 'classKey': 216,\n",
       " 'orderKey': 1457,\n",
       " 'familyKey': 4334,\n",
       " 'genusKey': 1340278,\n",
       " 'synonym': False,\n",
       " 'class': 'Insecta'}"
      ]
     },
     "execution_count": 22,
     "metadata": {},
     "output_type": "execute_result"
    }
   ],
   "source": [
    "# get taxonomy info for the genus Bombus\n",
    "#queries only where bombus is specifically in genus\n",
    "res = requests.get(\n",
    "    url=\"https://api.gbif.org/v1/species/match/\",\n",
    "    params={\"genus\": \"Bombus\"},\n",
    ")\n",
    "res.json()\n",
    "#information getting back is one hit - can use genus key value for next search to declutter results\n",
    "#genus key is 1340278"
   ]
  },
  {
   "cell_type": "code",
   "execution_count": 23,
   "metadata": {},
   "outputs": [
    {
     "data": {
      "text/plain": [
       "{'usageKey': 3171670,\n",
       " 'scientificName': 'Pedicularis L.',\n",
       " 'canonicalName': 'Pedicularis',\n",
       " 'rank': 'GENUS',\n",
       " 'status': 'ACCEPTED',\n",
       " 'confidence': 95,\n",
       " 'matchType': 'EXACT',\n",
       " 'kingdom': 'Plantae',\n",
       " 'phylum': 'Tracheophyta',\n",
       " 'order': 'Lamiales',\n",
       " 'family': 'Orobanchaceae',\n",
       " 'genus': 'Pedicularis',\n",
       " 'kingdomKey': 6,\n",
       " 'phylumKey': 7707728,\n",
       " 'classKey': 220,\n",
       " 'orderKey': 408,\n",
       " 'familyKey': 6651,\n",
       " 'genusKey': 3171670,\n",
       " 'synonym': False,\n",
       " 'class': 'Magnoliopsida'}"
      ]
     },
     "execution_count": 23,
     "metadata": {},
     "output_type": "execute_result"
    }
   ],
   "source": [
    "# get taxonomy info for the genus Pedicularis\n",
    "res = requests.get(\n",
    "    url=\"https://api.gbif.org/v1/species/match/\",\n",
    "    params={\"genus\": \"Pedicularis\"},\n",
    ")\n",
    "res.json()"
   ]
  },
  {
   "cell_type": "code",
   "execution_count": 24,
   "metadata": {},
   "outputs": [
    {
     "data": {
      "text/plain": [
       "'https://api.gbif.org/v1/occurrence/search/?genusKey=1340278&hasCoordinate=true'"
      ]
     },
     "execution_count": 24,
     "metadata": {},
     "output_type": "execute_result"
    }
   ],
   "source": [
    "# add requirement that the record have coordinate data\n",
    "res = requests.get(\n",
    "    url=\"https://api.gbif.org/v1/occurrence/search/\",\n",
    "    params={\n",
    "        \"genusKey\": 1340278, \n",
    "        \"hasCoordinate\": \"true\",\n",
    "    }\n",
    ")\n",
    "res.url\n",
    "#hasCoordinate is location data"
   ]
  },
  {
   "cell_type": "code",
   "execution_count": 30,
   "metadata": {},
   "outputs": [
    {
     "data": {
      "text/plain": [
       "{'offset': 100,\n",
       " 'limit': 2,\n",
       " 'endOfRecords': False,\n",
       " 'count': 3517205,\n",
       " 'results': [{'key': 5007561247,\n",
       "   'datasetKey': '50c9509d-22c7-4a22-a47d-8c48425ef4a7',\n",
       "   'publishingOrgKey': '28eb1a3f-1c15-4a95-931a-4af90ecb574d',\n",
       "   'installationKey': '997448a8-f762-11e1-a439-00145eb45e9a',\n",
       "   'hostingOrganizationKey': '28eb1a3f-1c15-4a95-931a-4af90ecb574d',\n",
       "   'publishingCountry': 'US',\n",
       "   'protocol': 'DWC_ARCHIVE',\n",
       "   'lastCrawled': '2025-02-16T04:52:36.717+00:00',\n",
       "   'lastParsed': '2025-02-16T15:54:27.861+00:00',\n",
       "   'crawlId': 518,\n",
       "   'projectId': 'https://www.inaturalist.org/projects/texas-invertebrate-species-of-conservation-need',\n",
       "   'extensions': {'http://rs.gbif.org/terms/1.0/Multimedia': [{'http://purl.org/dc/terms/created': '2025-01-04T23:12:41Z',\n",
       "      'http://purl.org/dc/terms/identifier': 'https://inaturalist-open-data.s3.amazonaws.com/photos/461751082/original.jpg',\n",
       "      'http://purl.org/dc/terms/references': 'https://www.inaturalist.org/photos/461751082',\n",
       "      'http://purl.org/dc/terms/publisher': 'iNaturalist',\n",
       "      'http://purl.org/dc/terms/license': 'http://creativecommons.org/licenses/by-nc/4.0/',\n",
       "      'http://rs.tdwg.org/dwc/terms/catalogNumber': '461751082',\n",
       "      'http://purl.org/dc/terms/creator': 'juliaschaubert',\n",
       "      'http://purl.org/dc/terms/format': 'image/jpeg',\n",
       "      'http://purl.org/dc/terms/type': 'StillImage',\n",
       "      'http://purl.org/dc/terms/rightsHolder': 'juliaschaubert'},\n",
       "     {'http://purl.org/dc/terms/created': '2025-01-04T23:12:41Z',\n",
       "      'http://purl.org/dc/terms/identifier': 'https://inaturalist-open-data.s3.amazonaws.com/photos/461751110/original.jpg',\n",
       "      'http://purl.org/dc/terms/references': 'https://www.inaturalist.org/photos/461751110',\n",
       "      'http://purl.org/dc/terms/publisher': 'iNaturalist',\n",
       "      'http://purl.org/dc/terms/license': 'http://creativecommons.org/licenses/by-nc/4.0/',\n",
       "      'http://rs.tdwg.org/dwc/terms/catalogNumber': '461751110',\n",
       "      'http://purl.org/dc/terms/creator': 'juliaschaubert',\n",
       "      'http://purl.org/dc/terms/format': 'image/jpeg',\n",
       "      'http://purl.org/dc/terms/type': 'StillImage',\n",
       "      'http://purl.org/dc/terms/rightsHolder': 'juliaschaubert'},\n",
       "     {'http://purl.org/dc/terms/created': '2025-01-04T23:12:41Z',\n",
       "      'http://purl.org/dc/terms/identifier': 'https://inaturalist-open-data.s3.amazonaws.com/photos/461751136/original.jpg',\n",
       "      'http://purl.org/dc/terms/references': 'https://www.inaturalist.org/photos/461751136',\n",
       "      'http://purl.org/dc/terms/publisher': 'iNaturalist',\n",
       "      'http://purl.org/dc/terms/license': 'http://creativecommons.org/licenses/by-nc/4.0/',\n",
       "      'http://rs.tdwg.org/dwc/terms/catalogNumber': '461751136',\n",
       "      'http://purl.org/dc/terms/creator': 'juliaschaubert',\n",
       "      'http://purl.org/dc/terms/format': 'image/jpeg',\n",
       "      'http://purl.org/dc/terms/type': 'StillImage',\n",
       "      'http://purl.org/dc/terms/rightsHolder': 'juliaschaubert'}]},\n",
       "   'basisOfRecord': 'HUMAN_OBSERVATION',\n",
       "   'occurrenceStatus': 'PRESENT',\n",
       "   'taxonKey': 1340416,\n",
       "   'kingdomKey': 1,\n",
       "   'phylumKey': 54,\n",
       "   'classKey': 216,\n",
       "   'orderKey': 1457,\n",
       "   'familyKey': 4334,\n",
       "   'genusKey': 1340278,\n",
       "   'speciesKey': 1340416,\n",
       "   'acceptedTaxonKey': 1340416,\n",
       "   'scientificName': 'Bombus pensylvanicus (De Geer, 1773)',\n",
       "   'acceptedScientificName': 'Bombus pensylvanicus (De Geer, 1773)',\n",
       "   'kingdom': 'Animalia',\n",
       "   'phylum': 'Arthropoda',\n",
       "   'order': 'Hymenoptera',\n",
       "   'family': 'Apidae',\n",
       "   'genus': 'Bombus',\n",
       "   'species': 'Bombus pensylvanicus',\n",
       "   'genericName': 'Bombus',\n",
       "   'specificEpithet': 'pensylvanicus',\n",
       "   'taxonRank': 'SPECIES',\n",
       "   'taxonomicStatus': 'ACCEPTED',\n",
       "   'iucnRedListCategory': 'VU',\n",
       "   'dateIdentified': '2025-01-04T23:37:23',\n",
       "   'decimalLatitude': 30.339478,\n",
       "   'decimalLongitude': -97.747887,\n",
       "   'coordinateUncertaintyInMeters': 18.0,\n",
       "   'continent': 'NORTH_AMERICA',\n",
       "   'stateProvince': 'Texas',\n",
       "   'gadm': {'level0': {'gid': 'USA', 'name': 'United States'},\n",
       "    'level1': {'gid': 'USA.44_1', 'name': 'Texas'},\n",
       "    'level2': {'gid': 'USA.44.227_1', 'name': 'Travis'}},\n",
       "   'year': 2025,\n",
       "   'month': 1,\n",
       "   'day': 4,\n",
       "   'eventDate': '2025-01-04T17:12:41',\n",
       "   'startDayOfYear': 4,\n",
       "   'endDayOfYear': 4,\n",
       "   'issues': ['COORDINATE_ROUNDED',\n",
       "    'CONTINENT_DERIVED_FROM_COORDINATES',\n",
       "    'TAXON_MATCH_TAXON_ID_IGNORED'],\n",
       "   'modified': '2025-02-03T05:43:31.000+00:00',\n",
       "   'lastInterpreted': '2025-02-16T15:54:27.861+00:00',\n",
       "   'references': 'https://www.inaturalist.org/observations/257407978',\n",
       "   'license': 'http://creativecommons.org/licenses/by-nc/4.0/legalcode',\n",
       "   'isSequenced': False,\n",
       "   'identifiers': [{'identifier': '257407978'}],\n",
       "   'media': [{'type': 'StillImage',\n",
       "     'format': 'image/jpeg',\n",
       "     'references': 'https://www.inaturalist.org/photos/461751110',\n",
       "     'created': '2025-01-04T23:12:41.000+00:00',\n",
       "     'creator': 'juliaschaubert',\n",
       "     'publisher': 'iNaturalist',\n",
       "     'license': 'http://creativecommons.org/licenses/by-nc/4.0/',\n",
       "     'rightsHolder': 'juliaschaubert',\n",
       "     'identifier': 'https://inaturalist-open-data.s3.amazonaws.com/photos/461751110/original.jpg'},\n",
       "    {'type': 'StillImage',\n",
       "     'format': 'image/jpeg',\n",
       "     'references': 'https://www.inaturalist.org/photos/461751136',\n",
       "     'created': '2025-01-04T23:12:41.000+00:00',\n",
       "     'creator': 'juliaschaubert',\n",
       "     'publisher': 'iNaturalist',\n",
       "     'license': 'http://creativecommons.org/licenses/by-nc/4.0/',\n",
       "     'rightsHolder': 'juliaschaubert',\n",
       "     'identifier': 'https://inaturalist-open-data.s3.amazonaws.com/photos/461751136/original.jpg'},\n",
       "    {'type': 'StillImage',\n",
       "     'format': 'image/jpeg',\n",
       "     'references': 'https://www.inaturalist.org/photos/461751082',\n",
       "     'created': '2025-01-04T23:12:41.000+00:00',\n",
       "     'creator': 'juliaschaubert',\n",
       "     'publisher': 'iNaturalist',\n",
       "     'license': 'http://creativecommons.org/licenses/by-nc/4.0/',\n",
       "     'rightsHolder': 'juliaschaubert',\n",
       "     'identifier': 'https://inaturalist-open-data.s3.amazonaws.com/photos/461751082/original.jpg'}],\n",
       "   'facts': [],\n",
       "   'relations': [],\n",
       "   'isInCluster': False,\n",
       "   'datasetName': 'iNaturalist research-grade observations',\n",
       "   'recordedBy': 'juliaschaubert',\n",
       "   'identifiedBy': 'juliaschaubert',\n",
       "   'geodeticDatum': 'WGS84',\n",
       "   'class': 'Insecta',\n",
       "   'countryCode': 'US',\n",
       "   'recordedByIDs': [],\n",
       "   'identifiedByIDs': [],\n",
       "   'gbifRegion': 'NORTH_AMERICA',\n",
       "   'country': 'United States of America',\n",
       "   'publishedByGbifRegion': 'NORTH_AMERICA',\n",
       "   'rightsHolder': 'juliaschaubert',\n",
       "   'identifier': '257407978',\n",
       "   'http://unknown.org/nick': 'juliaschaubert',\n",
       "   'verbatimEventDate': '2025-01-04 17:12:41-06:00',\n",
       "   'gbifID': '5007561247',\n",
       "   'collectionCode': 'Observations',\n",
       "   'verbatimLocality': 'Bullard Dr, Austin, TX, US',\n",
       "   'occurrenceID': 'https://www.inaturalist.org/observations/257407978',\n",
       "   'taxonID': '56887',\n",
       "   'catalogNumber': '257407978',\n",
       "   'institutionCode': 'iNaturalist',\n",
       "   'eventTime': '17:12:41-06:00',\n",
       "   'http://unknown.org/captive': 'wild',\n",
       "   'identificationID': '580329258'},\n",
       "  {'key': 5007439692,\n",
       "   'datasetKey': '50c9509d-22c7-4a22-a47d-8c48425ef4a7',\n",
       "   'publishingOrgKey': '28eb1a3f-1c15-4a95-931a-4af90ecb574d',\n",
       "   'installationKey': '997448a8-f762-11e1-a439-00145eb45e9a',\n",
       "   'hostingOrganizationKey': '28eb1a3f-1c15-4a95-931a-4af90ecb574d',\n",
       "   'publishingCountry': 'US',\n",
       "   'protocol': 'DWC_ARCHIVE',\n",
       "   'lastCrawled': '2025-02-16T04:52:36.717+00:00',\n",
       "   'lastParsed': '2025-02-16T19:43:29.748+00:00',\n",
       "   'crawlId': 518,\n",
       "   'extensions': {'http://rs.gbif.org/terms/1.0/Multimedia': [{'http://purl.org/dc/terms/created': '2025-01-02T13:21:06-08:00',\n",
       "      'http://purl.org/dc/terms/identifier': 'https://inaturalist-open-data.s3.amazonaws.com/photos/461755966/original.jpg',\n",
       "      'http://purl.org/dc/terms/references': 'https://www.inaturalist.org/photos/461755966',\n",
       "      'http://purl.org/dc/terms/publisher': 'iNaturalist',\n",
       "      'http://purl.org/dc/terms/license': 'http://creativecommons.org/licenses/by/4.0/',\n",
       "      'http://rs.tdwg.org/dwc/terms/catalogNumber': '461755966',\n",
       "      'http://purl.org/dc/terms/creator': 'Ezequiel Racker',\n",
       "      'http://purl.org/dc/terms/format': 'image/jpeg',\n",
       "      'http://purl.org/dc/terms/type': 'StillImage',\n",
       "      'http://purl.org/dc/terms/rightsHolder': 'Ezequiel Racker'},\n",
       "     {'http://purl.org/dc/terms/created': '2025-01-02T13:21:04-08:00',\n",
       "      'http://purl.org/dc/terms/identifier': 'https://inaturalist-open-data.s3.amazonaws.com/photos/461755962/original.jpg',\n",
       "      'http://purl.org/dc/terms/references': 'https://www.inaturalist.org/photos/461755962',\n",
       "      'http://purl.org/dc/terms/publisher': 'iNaturalist',\n",
       "      'http://purl.org/dc/terms/license': 'http://creativecommons.org/licenses/by/4.0/',\n",
       "      'http://rs.tdwg.org/dwc/terms/catalogNumber': '461755962',\n",
       "      'http://purl.org/dc/terms/creator': 'Ezequiel Racker',\n",
       "      'http://purl.org/dc/terms/format': 'image/jpeg',\n",
       "      'http://purl.org/dc/terms/type': 'StillImage',\n",
       "      'http://purl.org/dc/terms/rightsHolder': 'Ezequiel Racker'},\n",
       "     {'http://purl.org/dc/terms/created': '2025-01-02T13:21:07-08:00',\n",
       "      'http://purl.org/dc/terms/identifier': 'https://inaturalist-open-data.s3.amazonaws.com/photos/461755971/original.jpg',\n",
       "      'http://purl.org/dc/terms/references': 'https://www.inaturalist.org/photos/461755971',\n",
       "      'http://purl.org/dc/terms/publisher': 'iNaturalist',\n",
       "      'http://purl.org/dc/terms/license': 'http://creativecommons.org/licenses/by/4.0/',\n",
       "      'http://rs.tdwg.org/dwc/terms/catalogNumber': '461755971',\n",
       "      'http://purl.org/dc/terms/creator': 'Ezequiel Racker',\n",
       "      'http://purl.org/dc/terms/format': 'image/jpeg',\n",
       "      'http://purl.org/dc/terms/type': 'StillImage',\n",
       "      'http://purl.org/dc/terms/rightsHolder': 'Ezequiel Racker'},\n",
       "     {'http://purl.org/dc/terms/created': '2025-01-02T13:21:10-08:00',\n",
       "      'http://purl.org/dc/terms/identifier': 'https://inaturalist-open-data.s3.amazonaws.com/photos/461755989/original.jpg',\n",
       "      'http://purl.org/dc/terms/references': 'https://www.inaturalist.org/photos/461755989',\n",
       "      'http://purl.org/dc/terms/publisher': 'iNaturalist',\n",
       "      'http://purl.org/dc/terms/license': 'http://creativecommons.org/licenses/by/4.0/',\n",
       "      'http://rs.tdwg.org/dwc/terms/catalogNumber': '461755989',\n",
       "      'http://purl.org/dc/terms/creator': 'Ezequiel Racker',\n",
       "      'http://purl.org/dc/terms/format': 'image/jpeg',\n",
       "      'http://purl.org/dc/terms/type': 'StillImage',\n",
       "      'http://purl.org/dc/terms/rightsHolder': 'Ezequiel Racker'}]},\n",
       "   'basisOfRecord': 'HUMAN_OBSERVATION',\n",
       "   'occurrenceStatus': 'PRESENT',\n",
       "   'taxonKey': 1340503,\n",
       "   'kingdomKey': 1,\n",
       "   'phylumKey': 54,\n",
       "   'classKey': 216,\n",
       "   'orderKey': 1457,\n",
       "   'familyKey': 4334,\n",
       "   'genusKey': 1340278,\n",
       "   'speciesKey': 1340503,\n",
       "   'acceptedTaxonKey': 1340503,\n",
       "   'scientificName': 'Bombus terrestris (Linnaeus, 1758)',\n",
       "   'acceptedScientificName': 'Bombus terrestris (Linnaeus, 1758)',\n",
       "   'kingdom': 'Animalia',\n",
       "   'phylum': 'Arthropoda',\n",
       "   'order': 'Hymenoptera',\n",
       "   'family': 'Apidae',\n",
       "   'genus': 'Bombus',\n",
       "   'species': 'Bombus terrestris',\n",
       "   'genericName': 'Bombus',\n",
       "   'specificEpithet': 'terrestris',\n",
       "   'taxonRank': 'SPECIES',\n",
       "   'taxonomicStatus': 'ACCEPTED',\n",
       "   'iucnRedListCategory': 'NE',\n",
       "   'dateIdentified': '2025-01-05T00:13:56',\n",
       "   'decimalLatitude': -41.101228,\n",
       "   'decimalLongitude': -71.553892,\n",
       "   'coordinateUncertaintyInMeters': 1613.0,\n",
       "   'continent': 'SOUTH_AMERICA',\n",
       "   'stateProvince': 'Río Negro',\n",
       "   'gadm': {'level0': {'gid': 'ARG', 'name': 'Argentina'},\n",
       "    'level1': {'gid': 'ARG.16_1', 'name': 'Río Negro'},\n",
       "    'level2': {'gid': 'ARG.16.3_1', 'name': 'Bariloche'}},\n",
       "   'year': 2025,\n",
       "   'month': 1,\n",
       "   'day': 2,\n",
       "   'eventDate': '2025-01-02T13:21',\n",
       "   'startDayOfYear': 2,\n",
       "   'endDayOfYear': 2,\n",
       "   'issues': ['COORDINATE_ROUNDED',\n",
       "    'CONTINENT_DERIVED_FROM_COORDINATES',\n",
       "    'TAXON_MATCH_TAXON_ID_IGNORED'],\n",
       "   'modified': '2025-01-09T08:34:55.000+00:00',\n",
       "   'lastInterpreted': '2025-02-16T19:43:29.748+00:00',\n",
       "   'references': 'https://www.inaturalist.org/observations/257411390',\n",
       "   'license': 'http://creativecommons.org/licenses/by/4.0/legalcode',\n",
       "   'isSequenced': False,\n",
       "   'identifiers': [{'identifier': '257411390'}],\n",
       "   'media': [{'type': 'StillImage',\n",
       "     'format': 'image/jpeg',\n",
       "     'references': 'https://www.inaturalist.org/photos/461755962',\n",
       "     'created': '2025-01-02T21:21:04.000+00:00',\n",
       "     'creator': 'Ezequiel Racker',\n",
       "     'publisher': 'iNaturalist',\n",
       "     'license': 'http://creativecommons.org/licenses/by/4.0/',\n",
       "     'rightsHolder': 'Ezequiel Racker',\n",
       "     'identifier': 'https://inaturalist-open-data.s3.amazonaws.com/photos/461755962/original.jpg'},\n",
       "    {'type': 'StillImage',\n",
       "     'format': 'image/jpeg',\n",
       "     'references': 'https://www.inaturalist.org/photos/461755971',\n",
       "     'created': '2025-01-02T21:21:07.000+00:00',\n",
       "     'creator': 'Ezequiel Racker',\n",
       "     'publisher': 'iNaturalist',\n",
       "     'license': 'http://creativecommons.org/licenses/by/4.0/',\n",
       "     'rightsHolder': 'Ezequiel Racker',\n",
       "     'identifier': 'https://inaturalist-open-data.s3.amazonaws.com/photos/461755971/original.jpg'},\n",
       "    {'type': 'StillImage',\n",
       "     'format': 'image/jpeg',\n",
       "     'references': 'https://www.inaturalist.org/photos/461755989',\n",
       "     'created': '2025-01-02T21:21:10.000+00:00',\n",
       "     'creator': 'Ezequiel Racker',\n",
       "     'publisher': 'iNaturalist',\n",
       "     'license': 'http://creativecommons.org/licenses/by/4.0/',\n",
       "     'rightsHolder': 'Ezequiel Racker',\n",
       "     'identifier': 'https://inaturalist-open-data.s3.amazonaws.com/photos/461755989/original.jpg'},\n",
       "    {'type': 'StillImage',\n",
       "     'format': 'image/jpeg',\n",
       "     'references': 'https://www.inaturalist.org/photos/461755966',\n",
       "     'created': '2025-01-02T21:21:06.000+00:00',\n",
       "     'creator': 'Ezequiel Racker',\n",
       "     'publisher': 'iNaturalist',\n",
       "     'license': 'http://creativecommons.org/licenses/by/4.0/',\n",
       "     'rightsHolder': 'Ezequiel Racker',\n",
       "     'identifier': 'https://inaturalist-open-data.s3.amazonaws.com/photos/461755966/original.jpg'}],\n",
       "   'facts': [],\n",
       "   'relations': [],\n",
       "   'isInCluster': False,\n",
       "   'datasetName': 'iNaturalist research-grade observations',\n",
       "   'recordedBy': 'Ezequiel Racker',\n",
       "   'identifiedBy': 'Ezequiel Racker',\n",
       "   'geodeticDatum': 'WGS84',\n",
       "   'class': 'Insecta',\n",
       "   'countryCode': 'AR',\n",
       "   'recordedByIDs': [],\n",
       "   'identifiedByIDs': [],\n",
       "   'gbifRegion': 'LATIN_AMERICA',\n",
       "   'country': 'Argentina',\n",
       "   'publishedByGbifRegion': 'NORTH_AMERICA',\n",
       "   'rightsHolder': 'Ezequiel Racker',\n",
       "   'identifier': '257411390',\n",
       "   'http://unknown.org/nick': 'lechuzoologo',\n",
       "   'verbatimEventDate': '2025/01/02 1:21 PM',\n",
       "   'gbifID': '5007439692',\n",
       "   'collectionCode': 'Observations',\n",
       "   'verbatimLocality': 'Cerro López, Río Negro, Argentina',\n",
       "   'occurrenceID': 'https://www.inaturalist.org/observations/257411390',\n",
       "   'taxonID': '57516',\n",
       "   'catalogNumber': '257411390',\n",
       "   'institutionCode': 'iNaturalist',\n",
       "   'eventTime': '13:21:00-03:00',\n",
       "   'http://unknown.org/captive': 'wild',\n",
       "   'identificationID': '580337962'}],\n",
       " 'facets': []}"
      ]
     },
     "execution_count": 30,
     "metadata": {},
     "output_type": "execute_result"
    }
   ],
   "source": [
    "# request records 0-100\n",
    "res = requests.get(\n",
    "    url=\"https://api.gbif.org/v1/occurrence/search/\",\n",
    "    params={\n",
    "        \"genusKey\": 1340278, \n",
    "        \"hasCoordinate\": \"true\",\n",
    "        \"offset\": 100,\n",
    "        \"limit\": 2,\n",
    "    }\n",
    ")\n",
    "res.url\n",
    "res.json()\n",
    "#by default gives limit 20 - in get call can change offset and limit\n",
    "#offset 100, limit 2: gives 101 and 102 records\n",
    "#limit max is 300 - can write a for loop to iterate to get all data\n",
    "#limits on amount per request to not abuse database and put strain on requesting terrabytes of data"
   ]
  },
  {
   "cell_type": "code",
   "execution_count": 32,
   "metadata": {},
   "outputs": [
    {
     "name": "stdout",
     "output_type": "stream",
     "text": [
      "7373\n"
     ]
    }
   ],
   "source": [
    "res = requests.get(\n",
    "    url=\"https://api.gbif.org/v1/occurrence/search/\",\n",
    "    params={\n",
    "        \"genusKey\": 1340278, \n",
    "        \"year\": \"1900,1910\", \n",
    "        #dates of records\n",
    "        \"basisOfRecord\": \"PRESERVED_SPECIMEN\",\n",
    "        #physical specimen\n",
    "        \"hasCoordinate\": \"true\",\n",
    "        #has location dara\n",
    "        \"hasGeospatialIssue\": \"false\",\n",
    "        \"country\": \"US\",\n",
    "        #records in US\n",
    "    },\n",
    ")\n",
    "\n",
    "print(res.json()[\"count\"])\n",
    "#still 7373 hits in database even though specific"
   ]
  },
  {
   "cell_type": "code",
   "execution_count": 33,
   "metadata": {},
   "outputs": [],
   "source": [
    "#Tutorial 12.1\n",
    "vcf_url = \"https://raw.githubusercontent.com/isaacovercast/easySFS/refs/heads/master/example_files/wcs_1200.vcf\""
   ]
  },
  {
   "cell_type": "code",
   "execution_count": 34,
   "metadata": {},
   "outputs": [],
   "source": [
    "vcf_response = requests.get(vcf_url)"
   ]
  },
  {
   "cell_type": "code",
   "execution_count": 37,
   "metadata": {},
   "outputs": [
    {
     "data": {
      "text/plain": [
       "200"
      ]
     },
     "execution_count": 37,
     "metadata": {},
     "output_type": "execute_result"
    }
   ],
   "source": [
    "vcf_response.status_code"
   ]
  },
  {
   "cell_type": "code",
   "execution_count": 38,
   "metadata": {},
   "outputs": [
    {
     "data": {
      "text/plain": [
       "'##fileformat=VCFv4.0\\n##Tassel=<ID=GenotypeTable,Version=5,Description=\"Reference allele is not known. The major allele was used as reference allele\">\\n##FORMAT=<ID=GT,Number=1,Type=String,Description=\"Genotype\">\\n##FORMAT=<ID=AD,Number=.,Type=Integer,Description=\"Allelic depths for the reference and alternate alleles in the order listed\">\\n##FORMAT=<ID=DP,Number=1,Type=Integer,Description=\"Read Depth (only filtered reads used for calling)\">\\n##FORMAT=<ID=GQ,Number=1,Type=Float,Description=\"Genotype '"
      ]
     },
     "execution_count": 38,
     "metadata": {},
     "output_type": "execute_result"
    }
   ],
   "source": [
    "vcf_response.text[:500]"
   ]
  },
  {
   "cell_type": "code",
   "execution_count": 42,
   "metadata": {},
   "outputs": [
    {
     "ename": "ValueError",
     "evalue": "Invalid file path or buffer object type: <class 'requests.models.Response'>",
     "output_type": "error",
     "traceback": [
      "\u001b[0;31m---------------------------------------------------------------------------\u001b[0m",
      "\u001b[0;31mValueError\u001b[0m                                Traceback (most recent call last)",
      "\u001b[0;32m<ipython-input-42-a042ecd3b5e8>\u001b[0m in \u001b[0;36m<module>\u001b[0;34m\u001b[0m\n\u001b[0;32m----> 1\u001b[0;31m \u001b[0mpd\u001b[0m\u001b[0;34m.\u001b[0m\u001b[0mread_csv\u001b[0m\u001b[0;34m(\u001b[0m\u001b[0mvcf_response\u001b[0m\u001b[0;34m)\u001b[0m\u001b[0;34m\u001b[0m\u001b[0;34m\u001b[0m\u001b[0m\n\u001b[0m",
      "\u001b[0;32m/opt/anaconda3/lib/python3.7/site-packages/pandas/io/parsers.py\u001b[0m in \u001b[0;36mparser_f\u001b[0;34m(filepath_or_buffer, sep, delimiter, header, names, index_col, usecols, squeeze, prefix, mangle_dupe_cols, dtype, engine, converters, true_values, false_values, skipinitialspace, skiprows, skipfooter, nrows, na_values, keep_default_na, na_filter, verbose, skip_blank_lines, parse_dates, infer_datetime_format, keep_date_col, date_parser, dayfirst, cache_dates, iterator, chunksize, compression, thousands, decimal, lineterminator, quotechar, quoting, doublequote, escapechar, comment, encoding, dialect, error_bad_lines, warn_bad_lines, delim_whitespace, low_memory, memory_map, float_precision)\u001b[0m\n\u001b[1;32m    674\u001b[0m         )\n\u001b[1;32m    675\u001b[0m \u001b[0;34m\u001b[0m\u001b[0m\n\u001b[0;32m--> 676\u001b[0;31m         \u001b[0;32mreturn\u001b[0m \u001b[0m_read\u001b[0m\u001b[0;34m(\u001b[0m\u001b[0mfilepath_or_buffer\u001b[0m\u001b[0;34m,\u001b[0m \u001b[0mkwds\u001b[0m\u001b[0;34m)\u001b[0m\u001b[0;34m\u001b[0m\u001b[0;34m\u001b[0m\u001b[0m\n\u001b[0m\u001b[1;32m    677\u001b[0m \u001b[0;34m\u001b[0m\u001b[0m\n\u001b[1;32m    678\u001b[0m     \u001b[0mparser_f\u001b[0m\u001b[0;34m.\u001b[0m\u001b[0m__name__\u001b[0m \u001b[0;34m=\u001b[0m \u001b[0mname\u001b[0m\u001b[0;34m\u001b[0m\u001b[0;34m\u001b[0m\u001b[0m\n",
      "\u001b[0;32m/opt/anaconda3/lib/python3.7/site-packages/pandas/io/parsers.py\u001b[0m in \u001b[0;36m_read\u001b[0;34m(filepath_or_buffer, kwds)\u001b[0m\n\u001b[1;32m    429\u001b[0m     \u001b[0;31m# See https://github.com/python/mypy/issues/1297\u001b[0m\u001b[0;34m\u001b[0m\u001b[0;34m\u001b[0m\u001b[0;34m\u001b[0m\u001b[0m\n\u001b[1;32m    430\u001b[0m     fp_or_buf, _, compression, should_close = get_filepath_or_buffer(\n\u001b[0;32m--> 431\u001b[0;31m         \u001b[0mfilepath_or_buffer\u001b[0m\u001b[0;34m,\u001b[0m \u001b[0mencoding\u001b[0m\u001b[0;34m,\u001b[0m \u001b[0mcompression\u001b[0m\u001b[0;34m\u001b[0m\u001b[0;34m\u001b[0m\u001b[0m\n\u001b[0m\u001b[1;32m    432\u001b[0m     )\n\u001b[1;32m    433\u001b[0m     \u001b[0mkwds\u001b[0m\u001b[0;34m[\u001b[0m\u001b[0;34m\"compression\"\u001b[0m\u001b[0;34m]\u001b[0m \u001b[0;34m=\u001b[0m \u001b[0mcompression\u001b[0m\u001b[0;34m\u001b[0m\u001b[0;34m\u001b[0m\u001b[0m\n",
      "\u001b[0;32m/opt/anaconda3/lib/python3.7/site-packages/pandas/io/common.py\u001b[0m in \u001b[0;36mget_filepath_or_buffer\u001b[0;34m(filepath_or_buffer, encoding, compression, mode)\u001b[0m\n\u001b[1;32m    198\u001b[0m     \u001b[0;32mif\u001b[0m \u001b[0;32mnot\u001b[0m \u001b[0mis_file_like\u001b[0m\u001b[0;34m(\u001b[0m\u001b[0mfilepath_or_buffer\u001b[0m\u001b[0;34m)\u001b[0m\u001b[0;34m:\u001b[0m\u001b[0;34m\u001b[0m\u001b[0;34m\u001b[0m\u001b[0m\n\u001b[1;32m    199\u001b[0m         \u001b[0mmsg\u001b[0m \u001b[0;34m=\u001b[0m \u001b[0;34mf\"Invalid file path or buffer object type: {type(filepath_or_buffer)}\"\u001b[0m\u001b[0;34m\u001b[0m\u001b[0;34m\u001b[0m\u001b[0m\n\u001b[0;32m--> 200\u001b[0;31m         \u001b[0;32mraise\u001b[0m \u001b[0mValueError\u001b[0m\u001b[0;34m(\u001b[0m\u001b[0mmsg\u001b[0m\u001b[0;34m)\u001b[0m\u001b[0;34m\u001b[0m\u001b[0;34m\u001b[0m\u001b[0m\n\u001b[0m\u001b[1;32m    201\u001b[0m \u001b[0;34m\u001b[0m\u001b[0m\n\u001b[1;32m    202\u001b[0m     \u001b[0;32mreturn\u001b[0m \u001b[0mfilepath_or_buffer\u001b[0m\u001b[0;34m,\u001b[0m \u001b[0;32mNone\u001b[0m\u001b[0;34m,\u001b[0m \u001b[0mcompression\u001b[0m\u001b[0;34m,\u001b[0m \u001b[0;32mFalse\u001b[0m\u001b[0;34m\u001b[0m\u001b[0;34m\u001b[0m\u001b[0m\n",
      "\u001b[0;31mValueError\u001b[0m: Invalid file path or buffer object type: <class 'requests.models.Response'>"
     ]
    }
   ],
   "source": [
    "pd.read_csv(vcf_response)"
   ]
  },
  {
   "cell_type": "code",
   "execution_count": 48,
   "metadata": {},
   "outputs": [],
   "source": [
    "with open(\"wcs.vcf\", 'w') as outfile:\n",
    "    outfile.write(res.text)\n",
    "lines = open('wcs.vcf').readlines()\n",
    "for idx, line in enumerate(lines):\n",
    "    if \"CHROM\" in line:\n",
    "        print(idx)\n",
    "#knew CHROM was header by opening url and visualizing vcf"
   ]
  },
  {
   "cell_type": "code",
   "execution_count": 49,
   "metadata": {},
   "outputs": [
    {
     "ename": "ValueError",
     "evalue": "Invalid file path or buffer object type: <class 'requests.models.Response'>",
     "output_type": "error",
     "traceback": [
      "\u001b[0;31m---------------------------------------------------------------------------\u001b[0m",
      "\u001b[0;31mValueError\u001b[0m                                Traceback (most recent call last)",
      "\u001b[0;32m<ipython-input-49-be1575048c8c>\u001b[0m in \u001b[0;36m<module>\u001b[0;34m\u001b[0m\n\u001b[0;32m----> 1\u001b[0;31m \u001b[0mpd\u001b[0m\u001b[0;34m.\u001b[0m\u001b[0mread_csv\u001b[0m\u001b[0;34m(\u001b[0m\u001b[0mvcf_response\u001b[0m\u001b[0;34m,\u001b[0m \u001b[0mheader\u001b[0m\u001b[0;34m=\u001b[0m\u001b[0;36m10\u001b[0m\u001b[0;34m,\u001b[0m \u001b[0msep\u001b[0m \u001b[0;34m=\u001b[0m\u001b[0;34m\"/t\"\u001b[0m\u001b[0;34m)\u001b[0m\u001b[0;34m\u001b[0m\u001b[0;34m\u001b[0m\u001b[0m\n\u001b[0m",
      "\u001b[0;32m/opt/anaconda3/lib/python3.7/site-packages/pandas/io/parsers.py\u001b[0m in \u001b[0;36mparser_f\u001b[0;34m(filepath_or_buffer, sep, delimiter, header, names, index_col, usecols, squeeze, prefix, mangle_dupe_cols, dtype, engine, converters, true_values, false_values, skipinitialspace, skiprows, skipfooter, nrows, na_values, keep_default_na, na_filter, verbose, skip_blank_lines, parse_dates, infer_datetime_format, keep_date_col, date_parser, dayfirst, cache_dates, iterator, chunksize, compression, thousands, decimal, lineterminator, quotechar, quoting, doublequote, escapechar, comment, encoding, dialect, error_bad_lines, warn_bad_lines, delim_whitespace, low_memory, memory_map, float_precision)\u001b[0m\n\u001b[1;32m    674\u001b[0m         )\n\u001b[1;32m    675\u001b[0m \u001b[0;34m\u001b[0m\u001b[0m\n\u001b[0;32m--> 676\u001b[0;31m         \u001b[0;32mreturn\u001b[0m \u001b[0m_read\u001b[0m\u001b[0;34m(\u001b[0m\u001b[0mfilepath_or_buffer\u001b[0m\u001b[0;34m,\u001b[0m \u001b[0mkwds\u001b[0m\u001b[0;34m)\u001b[0m\u001b[0;34m\u001b[0m\u001b[0;34m\u001b[0m\u001b[0m\n\u001b[0m\u001b[1;32m    677\u001b[0m \u001b[0;34m\u001b[0m\u001b[0m\n\u001b[1;32m    678\u001b[0m     \u001b[0mparser_f\u001b[0m\u001b[0;34m.\u001b[0m\u001b[0m__name__\u001b[0m \u001b[0;34m=\u001b[0m \u001b[0mname\u001b[0m\u001b[0;34m\u001b[0m\u001b[0;34m\u001b[0m\u001b[0m\n",
      "\u001b[0;32m/opt/anaconda3/lib/python3.7/site-packages/pandas/io/parsers.py\u001b[0m in \u001b[0;36m_read\u001b[0;34m(filepath_or_buffer, kwds)\u001b[0m\n\u001b[1;32m    429\u001b[0m     \u001b[0;31m# See https://github.com/python/mypy/issues/1297\u001b[0m\u001b[0;34m\u001b[0m\u001b[0;34m\u001b[0m\u001b[0;34m\u001b[0m\u001b[0m\n\u001b[1;32m    430\u001b[0m     fp_or_buf, _, compression, should_close = get_filepath_or_buffer(\n\u001b[0;32m--> 431\u001b[0;31m         \u001b[0mfilepath_or_buffer\u001b[0m\u001b[0;34m,\u001b[0m \u001b[0mencoding\u001b[0m\u001b[0;34m,\u001b[0m \u001b[0mcompression\u001b[0m\u001b[0;34m\u001b[0m\u001b[0;34m\u001b[0m\u001b[0m\n\u001b[0m\u001b[1;32m    432\u001b[0m     )\n\u001b[1;32m    433\u001b[0m     \u001b[0mkwds\u001b[0m\u001b[0;34m[\u001b[0m\u001b[0;34m\"compression\"\u001b[0m\u001b[0;34m]\u001b[0m \u001b[0;34m=\u001b[0m \u001b[0mcompression\u001b[0m\u001b[0;34m\u001b[0m\u001b[0;34m\u001b[0m\u001b[0m\n",
      "\u001b[0;32m/opt/anaconda3/lib/python3.7/site-packages/pandas/io/common.py\u001b[0m in \u001b[0;36mget_filepath_or_buffer\u001b[0;34m(filepath_or_buffer, encoding, compression, mode)\u001b[0m\n\u001b[1;32m    198\u001b[0m     \u001b[0;32mif\u001b[0m \u001b[0;32mnot\u001b[0m \u001b[0mis_file_like\u001b[0m\u001b[0;34m(\u001b[0m\u001b[0mfilepath_or_buffer\u001b[0m\u001b[0;34m)\u001b[0m\u001b[0;34m:\u001b[0m\u001b[0;34m\u001b[0m\u001b[0;34m\u001b[0m\u001b[0m\n\u001b[1;32m    199\u001b[0m         \u001b[0mmsg\u001b[0m \u001b[0;34m=\u001b[0m \u001b[0;34mf\"Invalid file path or buffer object type: {type(filepath_or_buffer)}\"\u001b[0m\u001b[0;34m\u001b[0m\u001b[0;34m\u001b[0m\u001b[0m\n\u001b[0;32m--> 200\u001b[0;31m         \u001b[0;32mraise\u001b[0m \u001b[0mValueError\u001b[0m\u001b[0;34m(\u001b[0m\u001b[0mmsg\u001b[0m\u001b[0;34m)\u001b[0m\u001b[0;34m\u001b[0m\u001b[0;34m\u001b[0m\u001b[0m\n\u001b[0m\u001b[1;32m    201\u001b[0m \u001b[0;34m\u001b[0m\u001b[0m\n\u001b[1;32m    202\u001b[0m     \u001b[0;32mreturn\u001b[0m \u001b[0mfilepath_or_buffer\u001b[0m\u001b[0;34m,\u001b[0m \u001b[0;32mNone\u001b[0m\u001b[0;34m,\u001b[0m \u001b[0mcompression\u001b[0m\u001b[0;34m,\u001b[0m \u001b[0;32mFalse\u001b[0m\u001b[0;34m\u001b[0m\u001b[0;34m\u001b[0m\u001b[0m\n",
      "\u001b[0;31mValueError\u001b[0m: Invalid file path or buffer object type: <class 'requests.models.Response'>"
     ]
    }
   ],
   "source": [
    "pd.read_csv(vcf_response, header=10, sep =\"/t\")"
   ]
  },
  {
   "cell_type": "code",
   "execution_count": null,
   "metadata": {},
   "outputs": [],
   "source": [
    "missing = (df)\n",
    "#parse out "
   ]
  }
 ],
 "metadata": {
  "kernelspec": {
   "display_name": "Python 3",
   "language": "python",
   "name": "python3"
  },
  "language_info": {
   "codemirror_mode": {
    "name": "ipython",
    "version": 3
   },
   "file_extension": ".py",
   "mimetype": "text/x-python",
   "name": "python",
   "nbconvert_exporter": "python",
   "pygments_lexer": "ipython3",
   "version": "3.7.6"
  }
 },
 "nbformat": 4,
 "nbformat_minor": 4
}
